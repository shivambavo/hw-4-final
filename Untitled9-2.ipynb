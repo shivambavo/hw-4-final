{
 "cells": [
  {
   "cell_type": "markdown",
   "id": "9bb858ed",
   "metadata": {},
   "source": [
    "# <u> HW 4 Pre-Lecture"
   ]
  },
  {
   "cell_type": "markdown",
   "id": "10af5dec",
   "metadata": {},
   "source": [
    "# QUESTION 1"
   ]
  },
  {
   "cell_type": "markdown",
   "id": "081938dd",
   "metadata": {},
   "source": [
    "\n",
    "### To understand more about bootstraping, i used a combination of chatgpt alongside the video to understand more. First i asked chat-gpt to simply tell me what is bootstraping? I got the following results:\n"
   ]
  },
  {
   "cell_type": "markdown",
   "id": "be4620e5",
   "metadata": {},
   "source": [
    "Chat-bot: Bootstrapping is a statistical method used to estimate the distribution of a sample statistic (such as the mean or variance) by resampling the original data with replacement. It involves generating multiple new datasets (called bootstrap samples) by randomly selecting data points from the original dataset. This method allows for approximating the sampling distribution of a statistic without making strong assumptions about the underlying population distribution, making it especially useful when the sample size is small or when traditional parametric assumptions are hard to meet.\n",
    "\n",
    "Bootstrapping is commonly used for:\n",
    "\n",
    "Estimating confidence intervals\n",
    "Assessing the stability of statistical measures\n",
    "Hypothesis testing\n",
    "\n",
    "### WRITTEN ANSWER - According to my own intepretation of that, i believe bootstrapping revolves the idea of replacing original data again and again and finding the mean and then using a histogram to show the distribution. chat-gpt says that bootstapping is used for confidence intervals which i believe was mentioned in the video as well. "
   ]
  },
  {
   "cell_type": "markdown",
   "id": "43401640",
   "metadata": {},
   "source": [
    "###  * To understand further about bootstapping, i tried to understand what variability of the means of simulated samples mean, after asking chat-gpt i got the folowing:"
   ]
  },
  {
   "cell_type": "markdown",
   "id": "50afd48e",
   "metadata": {},
   "source": [
    "Chat-bot: As sample size increases in bootstrapping, the variability of the means of the simulated samples decreases. Smaller samples lead to greater variability in the means, while larger samples provide more stable and precise estimates with less variability.\n",
    "\n",
    "### WRITTEN ANSWER - this is a short concise meaning of the question i asked the chatbot, from my interpretation, it simply means that when i increase my sample size my mean becomes more accurate and accurate as the variability decreases. From this i learnt, i should use a sample size that is large."
   ]
  },
  {
   "cell_type": "markdown",
   "id": "4512dd42",
   "metadata": {},
   "source": [
    "\n",
    "### * Coming to the question now, What is the difference between the \"standard error of the mean\" and the \"standard deviation\" of the original data? "
   ]
  },
  {
   "cell_type": "markdown",
   "id": "63105879",
   "metadata": {},
   "source": [
    "### WRITTEN ANSWER* I wanted to breakdown this question into two parts and then finally answer the question in my own words. To start with, what is standard error of mean? i asked my chat-bot, and got the following outputs:\n",
    "\n",
    "Chat-bot: The standard error of the mean (SEM) is a measure of how much the sample mean is expected to vary from the true population mean. It quantifies the precision of the sample mean as an estimate of the population mean. SEM is calculated by dividing the sample's standard deviation by the square root of the sample size:\n",
    "\n",
    "### WRITTEN ANSWER * from my own words, i think this statement is trying to tell us that how is the measure of how much the sample mean is expected to vary from the actual mean. I then asked what standard deviation is?\n",
    "\n",
    "Chat-bot: Standard deviation (SD) is a measure of how spread out or dispersed the values in a dataset are around the mean. It quantifies the average distance of each data point from the mean of the dataset. A low standard deviation means the data points are close to the mean, while a high standard deviation indicates that the data points are spread out over a wider range of values.\n",
    "\n",
    "### WRITTEN ANSWER* from this definition give to me by the chatbot, i know that s.d is the spread of the values. if the s.d is low that means the data points are close to the mean.\n",
    "\n",
    "### WRITTEN ANSWER * After now dividing this question into two parts, let me finally answer what the difference between the two are. Firstly, it is very evident that they both have two different formulas to calculate them, this is going to be the first difference. Secondly, i observed that the SEM is a measure of how much the sample mean is varied to the original while SD is the measure of the spread of the values around the mean. These are the difference between the two, and although they have their differences i noticed they both show the precision of the mean in two different ways that is expalined above."
   ]
  },
  {
   "cell_type": "markdown",
   "id": "20767d63",
   "metadata": {},
   "source": [
    "# QUESTION 2"
   ]
  },
  {
   "cell_type": "markdown",
   "id": "f033f37a",
   "metadata": {},
   "source": [
    "### * I started off by asking chat-gpt what a confidence interval is, i got the following:"
   ]
  },
  {
   "cell_type": "markdown",
   "id": "40b10d8b",
   "metadata": {},
   "source": [
    "Chat-bot: A confidence interval (CI) is a range of values, derived from sample data, that is likely to contain the true population parameter (such as the mean) with a certain level of confidence. It provides an estimate of the uncertainty around the sample statistic."
   ]
  },
  {
   "cell_type": "markdown",
   "id": "818993f9",
   "metadata": {},
   "source": [
    "### * okay so now, how can i use the SED to create a confidence interval? I asked the chat-bot and got the following results, i then analysed it and gave me interpretation:"
   ]
  },
  {
   "cell_type": "markdown",
   "id": "74fc1fbc",
   "metadata": {},
   "source": [
    "Chat-bot: To create a 95% confidence interval covering 95% of the bootstrapped sample means, you:\n",
    "\n",
    "Calculate the bootstrapped sample means.\n",
    "Compute the standard error of the mean (SEM).\n",
    "Use the critical value of 1.96 (for 95% confidence).\n",
    "Construct the interval as: mean ± 1.96 × SEM.\n",
    "This interval estimates where 95% of the bootstrapped sample means will fall, reflecting the uncertainty around the sample mean.\n",
    "\n",
    "### WRITTEN ANSWER *After having a look at the steps, this is my interpretation of this question. First and foremost, a confidence interval is derieved from the sample data and it provides the estimate of the uncertainity around the sample stats. To calculate the confidence interval, i compute the SEM, using the formula discussed in question 1. Next, use the critical value of 1.96 which is found from the normal distribution table ( i did stats in highschool, so im using that knowledge as well) and then construct the interval of the mean. This interval will now estimate that confidence interval on where the sample mean will fall and the uncertainity around the sample mean."
   ]
  },
  {
   "cell_type": "markdown",
   "id": "ca3987ec",
   "metadata": {},
   "source": [
    "# QUESTION 3"
   ]
  },
  {
   "cell_type": "markdown",
   "id": "a312ee76",
   "metadata": {},
   "source": [
    "### * how do we create a 95% bootstrapped confidence interval using the bootstrapped means? i asked the chat-bot first and tried to understand more, i got the following:"
   ]
  },
  {
   "cell_type": "markdown",
   "id": "fd1b849a",
   "metadata": {},
   "source": [
    "Chat-bot: To create a 95% bootstrapped confidence interval using the bootstrapped means, follow these steps:\n",
    "\n",
    "Steps:\n",
    "Generate bootstrapped samples:\n",
    "Randomly resample from the original dataset (with replacement) to create many (e.g., 10,000) bootstrap samples. Each bootstrap sample should be the same size as the original dataset.\n",
    "\n",
    "Calculate the bootstrapped means:\n",
    "For each bootstrap sample, compute the mean. This gives you a distribution of bootstrapped means.\n",
    "\n",
    "Sort the bootstrapped means:\n",
    "Arrange the bootstrapped means in ascending order.\n",
    "\n",
    "Determine the percentiles:\n",
    "To create a 95% confidence interval, you need to find the 2.5th and 97.5th percentiles of the sorted bootstrapped means.\n",
    "These percentiles represent the boundaries of the confidence interval, meaning 95% of the bootstrapped means will lie within this range.\n",
    "\n",
    "Construct the confidence interval:\n",
    "The 95% bootstrapped confidence interval is given by the range between the 2.5th and 97.5th percentiles of the bootstrapped means.\n",
    "\n",
    "### WRITTEN ANSWER * from my own interpretation of this, you start of my randomly re sampling the original dataset to create many bootstrap samples. This was explained in the video as well. Also like the video told us to do, the bootstrap sample should be the same size as the original dataset. Next, to calculate the bootstrapped means and compute the mean, this will now give you the mean according to the bootstrap samples. After that, you sort the bootstrapped means in ascending order and using the above calculation of the confidence interval, make a 95% confidence interval of the sorted bootstrapped means. Finally, construct the 95% confidence interval in the given range.\n"
   ]
  },
  {
   "cell_type": "markdown",
   "id": "8ba0d62d",
   "metadata": {},
   "source": [
    "###  * to understand this topic more, i asked my chat-bot some of the suggested questions and tried to interpret it, these were the outputs:"
   ]
  },
  {
   "cell_type": "markdown",
   "id": "69aaa924",
   "metadata": {},
   "source": [
    "### How would you give a range estimating what the sample mean of a future sample of size n might be?\n",
    "\n",
    "chat-bot: \n",
    "1. Calculate the current sample mean and standard deviation\n",
    "2. Determine the standard error of the mean (SEM) for the future sample\n",
    "3. Find the critical value from the t-distribution for the desired confidence level (e.g., 1.96 for large samples).\n",
    "4. Construct the prediction interval:\n",
    "\n",
    "### While the variability/uncertainty of sample mean statistics when sampling from a population is a function of the sample size (n) [how?], we would NEVER consider using a bootstrapped sample size that was different than the size of the original sample [why?].\n",
    "\n",
    "chat-bot:\n",
    "\n",
    "Sample Size and Variability: As sample size increases, the variability of the sample mean decreases. This occurs because larger samples provide a more accurate representation of the population, leading to a lower standard error and a more reliable estimate of the population mean.\n",
    "\n",
    "Bootstrapping and Sample Size Consistency: Bootstrapped samples should always match the size of the original sample to maintain accurate representation. Using a different size could introduce bias and distort the sampling distribution, affecting the validity of statistical estimates derived from the bootstrapped samples."
   ]
  },
  {
   "cell_type": "markdown",
   "id": "9b225d82",
   "metadata": {},
   "source": [
    "# QUESTION 4"
   ]
  },
  {
   "cell_type": "code",
   "execution_count": 1,
   "id": "2bac6084",
   "metadata": {},
   "outputs": [
    {
     "name": "stdout",
     "output_type": "stream",
     "text": [
      "95% Bootstrap Confidence Interval for the Population Mean: (12.7, 16.3)\n",
      "95% Bootstrap Confidence Interval for the Population Median: (12.0, 17.0)\n"
     ]
    }
   ],
   "source": [
    "import numpy as np\n",
    "import pandas as pd\n",
    "\n",
    "# this is the sample data that i shall use for this code\n",
    "data = np.array([12, 15, 14, 10, 13, 18, 16, 17, 19, 11])\n",
    "\n",
    "# The code below is to implement the bootstrapping, as you can see the the bootstrap samples will run 10000 times.\n",
    "def bootstrap_ci(data, num_bootstraps=10000, confidence_level=0.95):\n",
    "    # Generate bootstrap samples and compute their means\n",
    "    bootstrap_means = []\n",
    "    n = len(data)\n",
    "    \n",
    "    for _ in range(num_bootstraps):\n",
    "        sample = np.random.choice(data, size=n, replace=True)  # this is where the re-sampling happens \n",
    "        bootstrap_means.append(np.mean(sample))  # and now after it has re-sampled, we are finding the mean of this new sampled list\n",
    "    \n",
    "    #lower and upper percentiles for the confidence interval as discussed on how to find confidence interval\n",
    "    lower_bound = np.percentile(bootstrap_means, (1 - confidence_level) / 2 * 100)\n",
    "    upper_bound = np.percentile(bootstrap_means, (1 + confidence_level) / 2 * 100)\n",
    "    \n",
    "    return lower_bound, upper_bound\n",
    "\n",
    "# as we have been looking at, this is how we are going to calculate the confidence interval\n",
    "mean_ci = bootstrap_ci(data)\n",
    "print(f\"95% Bootstrap Confidence Interval for the Population Mean: {mean_ci}\")\n",
    "\n",
    "# --------------------------------------------\n",
    "# To estimate confidence intervals for different population parameters:\n",
    "# 1. Change the statistic calculated in the bootstrap loop (e.g., median, variance).\n",
    "# 2. Modify the output to reflect the desired parameter.\n",
    "\n",
    "# an example show for confidence interval \n",
    "def bootstrap_median_ci(data, num_bootstraps=10000, confidence_level=0.95):\n",
    "    bootstrap_medians = []\n",
    "    n = len(data)\n",
    "    \n",
    "    for _ in range(num_bootstraps):\n",
    "        sample = np.random.choice(data, size=n, replace=True)  # Resample with replacement\n",
    "        bootstrap_medians.append(np.median(sample))  # Calculate median of bootstrap sample\n",
    "    \n",
    "    lower_bound = np.percentile(bootstrap_medians, (1 - confidence_level) / 2 * 100)\n",
    "    upper_bound = np.percentile(bootstrap_medians, (1 + confidence_level) / 2 * 100)\n",
    "    \n",
    "    return lower_bound, upper_bound\n",
    "\n",
    "# this is the confidence interval that is printed\n",
    "median_ci = bootstrap_median_ci(data)\n",
    "print(f\"95% Bootstrap Confidence Interval for the Population Median: {median_ci}\")\n"
   ]
  },
  {
   "cell_type": "markdown",
   "id": "8b07a75b",
   "metadata": {},
   "source": [
    "###  * I then modified all the comments, and tried to explain in my own words, how everything in the code works in regards to bootstrapping."
   ]
  },
  {
   "cell_type": "markdown",
   "id": "152f607f",
   "metadata": {},
   "source": [
    "# CHAT- SUMMARY FOR THE PRE-LECTURE\n",
    "\n",
    "Here’s a summary of our session:\n",
    "\n",
    "Bootstrapping: We discussed bootstrapping as a statistical method for estimating the distribution of a sample statistic by resampling the original data with replacement.\n",
    "Variability of Means and Sample Size: We explored how the variability of means of simulated samples decreases as sample size increases, leading to more stable estimates of the population mean.\n",
    "Standard Error of the Mean (SEM): We defined SEM as a measure of how much the sample mean is expected to vary from the true population mean, with its calculation depending on sample size.\n",
    "Confidence Interval: We defined a confidence interval as a range that likely contains the true population parameter, with a focus on calculating it using bootstrapping.\n",
    "Prediction Interval for Future Samples: We discussed how to estimate a range for the sample mean of a future sample based on current sample statistics.\n",
    "95% Bootstrap Confidence Interval Code: I provided Python code to calculate a 95% bootstrap confidence interval for a population mean, along with comments explaining how to adapt the code for other population parameters (like the median).\n",
    "\n",
    "### Here is the link to the chat-gpt session:\n",
    "https://chatgpt.com/share/66fb16e5-cd84-8011-a48e-a07dfbf44e42\n"
   ]
  },
  {
   "cell_type": "markdown",
   "id": "a72903af",
   "metadata": {},
   "source": [
    "# <u> Post-Lecture"
   ]
  },
  {
   "cell_type": "markdown",
   "id": "d7108c49",
   "metadata": {},
   "source": [
    "# QUESTION 5"
   ]
  },
  {
   "cell_type": "markdown",
   "id": "6c794ef7",
   "metadata": {},
   "source": [
    "###  * Once again to understand this question i have split into two parts and then answered the entire question as a whole. To start of with, what is a population parameter? and what is a sample statistic?"
   ]
  },
  {
   "cell_type": "markdown",
   "id": "2b7b4a84",
   "metadata": {},
   "source": [
    "### what is a population parameter?\n",
    "\n",
    "Chat-bot: A population parameter is a numerical value that summarizes or describes a characteristic of an entire population. Common population parameters include the population mean (μ), population standard deviation (σ), and population proportion (p). These parameters are usually unknown and are estimated using sample data.\n",
    "\n",
    "### *acording to my own interpretation, a poplation parameter simply summarixes the entire population. As the chatbot gave examples, these would include the mean, the sd and the population proportion.\n",
    "\n",
    "### what is a sample statistic?\n",
    "A sample statistic is a numerical value that summarizes or describes a characteristic of a sample, which is a subset of the population. Sample statistics are used to estimate population parameters.\n",
    "\n",
    "### so here, it is evident that when we talk about the sample statistic, we are clearly talking about the characterstics of only the sample, which would be the subset of the population. i think i have an idea of the difference between the two now.\n"
   ]
  },
  {
   "cell_type": "markdown",
   "id": "e6e56365",
   "metadata": {},
   "source": [
    "### * Why do we need to distinguish between the role of the popualation parameter and the sample sample statistic when it comes to confidence intervals?"
   ]
  },
  {
   "cell_type": "markdown",
   "id": "a93b799a",
   "metadata": {},
   "source": [
    "Finally, let me answer this question. But first, lets ask our fellow chatbot, what it thinks of this:\n",
    "\n",
    "Chat-bot: \n",
    "Distinguishing between the population parameter and the sample statistic is essential when it comes to confidence intervals because:\n",
    "\n",
    "Population Parameters are Unknown: A confidence interval is used to estimate an unknown population parameter (like the population mean, proportion, or standard deviation). Since we usually can't observe or calculate the entire population parameter directly, we rely on the sample to make inferences.\n",
    "Sample Statistics are Estimates: The sample statistic (like the sample mean or sample proportion) serves as an estimate of the population parameter. The confidence interval provides a range of values around this sample statistic that is likely to contain the true population parameter.\n",
    "Quantifying Uncertainty: Confidence intervals account for the variability and uncertainty associated with using a sample statistic to estimate the population parameter. Since samples can vary, the interval indicates the degree of confidence we have that the interval contains the population parameter.\n",
    "In summary, we distinguish between the two because the sample statistic is what we calculate and use, while the population parameter is the true value we are trying to estimate. Confidence intervals bridge the gap between these, allowing us to infer population parameters from sample data.\n",
    "\n",
    "### so now in my own words, i think population parameters are unknown and we use the confidence interval to make estimates. however, we can not calculate the entire pop parameter directly hence we use the sample to make estimates. Therefore, these two work hand in hand with each other. the sample statistic is what we calculate from the sample and the population parameter is teh value we are tying to estimate. Finally, the confidence interval will bridge these two and help use the two with each other."
   ]
  },
  {
   "cell_type": "markdown",
   "id": "27c9ecfb",
   "metadata": {},
   "source": [
    "# QUESTION 6"
   ]
  },
  {
   "cell_type": "markdown",
   "id": "0e48e0b9",
   "metadata": {},
   "source": [
    "###  What is the process of bootstrapping?"
   ]
  },
  {
   "cell_type": "markdown",
   "id": "91b58b19",
   "metadata": {},
   "source": [
    "### WRITTEN ANSWER\n",
    "i believe bootstrapping revolves the idea of replacing original data again and again and finding the mean and then using a histogram to show the distribution. chat-gpt says that bootstapping is used for confidence intervals which i believe was mentioned in the video as well. the process of bootstrapping involves:\n",
    "\n",
    "1) start with the sample you have been given\n",
    "2) you re-sample the values with replacement ( meaning you use those same values) which basically means some data can be picked twice.\n",
    "3) you then calculate the mean or variace for that data\n",
    "4) then keep repeating the above steps for example like 10000 times.\n",
    "5) once you have the means for all those data values, you can make a histogram \n",
    "6) you can use this histogram to make analysis then "
   ]
  },
  {
   "cell_type": "markdown",
   "id": "12c8fda5",
   "metadata": {},
   "source": [
    "###  What is the main purpose of bootstrapping?"
   ]
  },
  {
   "cell_type": "markdown",
   "id": "88add330",
   "metadata": {},
   "source": [
    "### WRITTEN ANSWER\n",
    "The main purpose of bootstrapping would be to estimate the sampling distribution of statistics when the distribution is unkown or difficult to model. Bootstrapping allows you to make ESTIMATES for these(examples):\n",
    "1) Confidence Intervals\n",
    "2) Hypothesis Testing\n",
    "\n"
   ]
  },
  {
   "cell_type": "markdown",
   "id": "88cd82d2",
   "metadata": {},
   "source": [
    "###  If you had a (hypothesized) guess about what the average of a population was, and you had a sample of size n from that population, how could you use bootstrapping to assess whether or not your (hypothesized) guess might be plausible?"
   ]
  },
  {
   "cell_type": "markdown",
   "id": "e2337f37",
   "metadata": {},
   "source": [
    "### WRITTEN ANSWER\n",
    "to check if your guess is plausible you have to compare hypothesized(guess) mean with the bootstrap distibution(the stuff you just came up with). if your mean that you have falls within the confidence interval(which would be 95%)(which basically means you check where your guess falls) then it is considered plausible and if it falls outside the range then the hypothesized mean is likely implausible based on the sample data. This bootstrapping approach helps evaluate how consistent your sample data is with the hypothesized population mean, even without assuming normality or other distributional characteristics.\n",
    "\n"
   ]
  },
  {
   "cell_type": "markdown",
   "id": "85805f32",
   "metadata": {},
   "source": [
    "# QUESTION 7"
   ]
  },
  {
   "cell_type": "markdown",
   "id": "c45102d9",
   "metadata": {},
   "source": [
    "A confidence interval overlapping zero means that zero is a plausible value for the true population parameter (e.g., the drug's effect). This suggests that there is a possibility the drug has no effect, so we cannot confidently say the drug is effective based on the data.\n",
    "\n",
    "Even if the observed sample mean is not zero, the confidence interval reflects the variability in the data. If zero falls within this interval, the evidence isn't strong enough to reject the null hypothesis of no effect.\n",
    "\n",
    "To reject the null hypothesis, the confidence interval must exclude zero, meaning the data provides strong enough evidence that the true effect is different from zero. This would indicate a statistically significant effect of the drug."
   ]
  },
  {
   "cell_type": "markdown",
   "id": "6816eee7",
   "metadata": {},
   "source": [
    "# QUESTION 8"
   ]
  },
  {
   "cell_type": "markdown",
   "id": "e8cec75d",
   "metadata": {},
   "source": [
    "## MY REPORT"
   ]
  },
  {
   "cell_type": "markdown",
   "id": "b36d9bfa",
   "metadata": {},
   "source": [
    "## Problem Introduction\n",
    "\n",
    "### what is my null hypothesis? \n",
    "\n",
    "The null hypothesis represents the assumption that the vaccine has no effect on patients' health scores, on average. This means that any observed changes in health scores between the initial and final measurements could be due to random chance rather than the vaccine itself.\n",
    "\n",
    "In words, this means that the mean health score of the patients after receiving the vaccine is the same as their mean health score before the vaccine. In this case, we assume that the vaccine does not improve health.\n",
    "\n",
    "we could possible find this using bootstrapping, could we calculate the mean from bootstrapping and then compare, and make a conculsion.\n"
   ]
  },
  {
   "cell_type": "markdown",
   "id": "4d2bb4c2",
   "metadata": {},
   "source": [
    "### lets now look at the data for my report visually"
   ]
  },
  {
   "cell_type": "code",
   "execution_count": 5,
   "id": "41579ddf",
   "metadata": {},
   "outputs": [
    {
     "name": "stdout",
     "output_type": "stream",
     "text": [
      "   PatientID  Age Gender  InitialHealthScore  FinalHealthScore\n",
      "0          1   45      M                  84                86\n",
      "1          2   34      F                  78                86\n",
      "2          3   29      M                  83                80\n",
      "3          4   52      F                  81                86\n",
      "4          5   37      M                  81                84\n",
      "5          6   41      F                  80                86\n",
      "6          7   33      M                  79                86\n",
      "7          8   48      F                  85                82\n",
      "8          9   26      M                  76                83\n",
      "9         10   39      F                  83                84\n"
     ]
    }
   ],
   "source": [
    "import pandas as pd\n",
    "\n",
    "# Creating the dataset\n",
    "data = {\n",
    "    'PatientID': [1, 2, 3, 4, 5, 6, 7, 8, 9, 10],\n",
    "    'Age': [45, 34, 29, 52, 37, 41, 33, 48, 26, 39],\n",
    "    'Gender': ['M', 'F', 'M', 'F', 'M', 'F', 'M', 'F', 'M', 'F'],\n",
    "    'InitialHealthScore': [84, 78, 83, 81, 81, 80, 79, 85, 76, 83],\n",
    "    'FinalHealthScore': [86, 86, 80, 86, 84, 86, 86, 82, 83, 84]\n",
    "}\n",
    "\n",
    "# Load data into a DataFrame\n",
    "df = pd.DataFrame(data)\n",
    "\n",
    "# Display the DataFrame\n",
    "print(df)\n",
    "\n",
    "# Optionally, save it to a CSV file\n",
    "df.to_csv(\"AliTech_Vaccine_Data.csv\", index=False)\n"
   ]
  },
  {
   "cell_type": "markdown",
   "id": "5b59b7ab",
   "metadata": {},
   "source": [
    "### lets have a look at it on a histogram"
   ]
  },
  {
   "cell_type": "code",
   "execution_count": 14,
   "id": "c9f7c4d5",
   "metadata": {
    "scrolled": true
   },
   "outputs": [
    {
     "data": {
      "application/vnd.plotly.v1+json": {
       "config": {
        "plotlyServerURL": "https://plot.ly"
       },
       "data": [
        {
         "alignmentgroup": "True",
         "bingroup": "x",
         "hovertemplate": "Change in Health Score=%{x}<br>count=%{y}<extra></extra>",
         "legendgroup": "",
         "marker": {
          "color": "lightblue",
          "pattern": {
           "shape": ""
          }
         },
         "name": "",
         "offsetgroup": "",
         "orientation": "v",
         "showlegend": false,
         "type": "histogram",
         "x": [
          2,
          8,
          -3,
          5,
          3,
          6,
          7,
          -3,
          7,
          1
         ],
         "xaxis": "x",
         "yaxis": "y"
        }
       ],
       "layout": {
        "bargap": 0.2,
        "barmode": "relative",
        "legend": {
         "tracegroupgap": 0
        },
        "template": {
         "data": {
          "bar": [
           {
            "error_x": {
             "color": "#2a3f5f"
            },
            "error_y": {
             "color": "#2a3f5f"
            },
            "marker": {
             "line": {
              "color": "#E5ECF6",
              "width": 0.5
             },
             "pattern": {
              "fillmode": "overlay",
              "size": 10,
              "solidity": 0.2
             }
            },
            "type": "bar"
           }
          ],
          "barpolar": [
           {
            "marker": {
             "line": {
              "color": "#E5ECF6",
              "width": 0.5
             },
             "pattern": {
              "fillmode": "overlay",
              "size": 10,
              "solidity": 0.2
             }
            },
            "type": "barpolar"
           }
          ],
          "carpet": [
           {
            "aaxis": {
             "endlinecolor": "#2a3f5f",
             "gridcolor": "white",
             "linecolor": "white",
             "minorgridcolor": "white",
             "startlinecolor": "#2a3f5f"
            },
            "baxis": {
             "endlinecolor": "#2a3f5f",
             "gridcolor": "white",
             "linecolor": "white",
             "minorgridcolor": "white",
             "startlinecolor": "#2a3f5f"
            },
            "type": "carpet"
           }
          ],
          "choropleth": [
           {
            "colorbar": {
             "outlinewidth": 0,
             "ticks": ""
            },
            "type": "choropleth"
           }
          ],
          "contour": [
           {
            "colorbar": {
             "outlinewidth": 0,
             "ticks": ""
            },
            "colorscale": [
             [
              0,
              "#0d0887"
             ],
             [
              0.1111111111111111,
              "#46039f"
             ],
             [
              0.2222222222222222,
              "#7201a8"
             ],
             [
              0.3333333333333333,
              "#9c179e"
             ],
             [
              0.4444444444444444,
              "#bd3786"
             ],
             [
              0.5555555555555556,
              "#d8576b"
             ],
             [
              0.6666666666666666,
              "#ed7953"
             ],
             [
              0.7777777777777778,
              "#fb9f3a"
             ],
             [
              0.8888888888888888,
              "#fdca26"
             ],
             [
              1,
              "#f0f921"
             ]
            ],
            "type": "contour"
           }
          ],
          "contourcarpet": [
           {
            "colorbar": {
             "outlinewidth": 0,
             "ticks": ""
            },
            "type": "contourcarpet"
           }
          ],
          "heatmap": [
           {
            "colorbar": {
             "outlinewidth": 0,
             "ticks": ""
            },
            "colorscale": [
             [
              0,
              "#0d0887"
             ],
             [
              0.1111111111111111,
              "#46039f"
             ],
             [
              0.2222222222222222,
              "#7201a8"
             ],
             [
              0.3333333333333333,
              "#9c179e"
             ],
             [
              0.4444444444444444,
              "#bd3786"
             ],
             [
              0.5555555555555556,
              "#d8576b"
             ],
             [
              0.6666666666666666,
              "#ed7953"
             ],
             [
              0.7777777777777778,
              "#fb9f3a"
             ],
             [
              0.8888888888888888,
              "#fdca26"
             ],
             [
              1,
              "#f0f921"
             ]
            ],
            "type": "heatmap"
           }
          ],
          "heatmapgl": [
           {
            "colorbar": {
             "outlinewidth": 0,
             "ticks": ""
            },
            "colorscale": [
             [
              0,
              "#0d0887"
             ],
             [
              0.1111111111111111,
              "#46039f"
             ],
             [
              0.2222222222222222,
              "#7201a8"
             ],
             [
              0.3333333333333333,
              "#9c179e"
             ],
             [
              0.4444444444444444,
              "#bd3786"
             ],
             [
              0.5555555555555556,
              "#d8576b"
             ],
             [
              0.6666666666666666,
              "#ed7953"
             ],
             [
              0.7777777777777778,
              "#fb9f3a"
             ],
             [
              0.8888888888888888,
              "#fdca26"
             ],
             [
              1,
              "#f0f921"
             ]
            ],
            "type": "heatmapgl"
           }
          ],
          "histogram": [
           {
            "marker": {
             "pattern": {
              "fillmode": "overlay",
              "size": 10,
              "solidity": 0.2
             }
            },
            "type": "histogram"
           }
          ],
          "histogram2d": [
           {
            "colorbar": {
             "outlinewidth": 0,
             "ticks": ""
            },
            "colorscale": [
             [
              0,
              "#0d0887"
             ],
             [
              0.1111111111111111,
              "#46039f"
             ],
             [
              0.2222222222222222,
              "#7201a8"
             ],
             [
              0.3333333333333333,
              "#9c179e"
             ],
             [
              0.4444444444444444,
              "#bd3786"
             ],
             [
              0.5555555555555556,
              "#d8576b"
             ],
             [
              0.6666666666666666,
              "#ed7953"
             ],
             [
              0.7777777777777778,
              "#fb9f3a"
             ],
             [
              0.8888888888888888,
              "#fdca26"
             ],
             [
              1,
              "#f0f921"
             ]
            ],
            "type": "histogram2d"
           }
          ],
          "histogram2dcontour": [
           {
            "colorbar": {
             "outlinewidth": 0,
             "ticks": ""
            },
            "colorscale": [
             [
              0,
              "#0d0887"
             ],
             [
              0.1111111111111111,
              "#46039f"
             ],
             [
              0.2222222222222222,
              "#7201a8"
             ],
             [
              0.3333333333333333,
              "#9c179e"
             ],
             [
              0.4444444444444444,
              "#bd3786"
             ],
             [
              0.5555555555555556,
              "#d8576b"
             ],
             [
              0.6666666666666666,
              "#ed7953"
             ],
             [
              0.7777777777777778,
              "#fb9f3a"
             ],
             [
              0.8888888888888888,
              "#fdca26"
             ],
             [
              1,
              "#f0f921"
             ]
            ],
            "type": "histogram2dcontour"
           }
          ],
          "mesh3d": [
           {
            "colorbar": {
             "outlinewidth": 0,
             "ticks": ""
            },
            "type": "mesh3d"
           }
          ],
          "parcoords": [
           {
            "line": {
             "colorbar": {
              "outlinewidth": 0,
              "ticks": ""
             }
            },
            "type": "parcoords"
           }
          ],
          "pie": [
           {
            "automargin": true,
            "type": "pie"
           }
          ],
          "scatter": [
           {
            "fillpattern": {
             "fillmode": "overlay",
             "size": 10,
             "solidity": 0.2
            },
            "type": "scatter"
           }
          ],
          "scatter3d": [
           {
            "line": {
             "colorbar": {
              "outlinewidth": 0,
              "ticks": ""
             }
            },
            "marker": {
             "colorbar": {
              "outlinewidth": 0,
              "ticks": ""
             }
            },
            "type": "scatter3d"
           }
          ],
          "scattercarpet": [
           {
            "marker": {
             "colorbar": {
              "outlinewidth": 0,
              "ticks": ""
             }
            },
            "type": "scattercarpet"
           }
          ],
          "scattergeo": [
           {
            "marker": {
             "colorbar": {
              "outlinewidth": 0,
              "ticks": ""
             }
            },
            "type": "scattergeo"
           }
          ],
          "scattergl": [
           {
            "marker": {
             "colorbar": {
              "outlinewidth": 0,
              "ticks": ""
             }
            },
            "type": "scattergl"
           }
          ],
          "scattermapbox": [
           {
            "marker": {
             "colorbar": {
              "outlinewidth": 0,
              "ticks": ""
             }
            },
            "type": "scattermapbox"
           }
          ],
          "scatterpolar": [
           {
            "marker": {
             "colorbar": {
              "outlinewidth": 0,
              "ticks": ""
             }
            },
            "type": "scatterpolar"
           }
          ],
          "scatterpolargl": [
           {
            "marker": {
             "colorbar": {
              "outlinewidth": 0,
              "ticks": ""
             }
            },
            "type": "scatterpolargl"
           }
          ],
          "scatterternary": [
           {
            "marker": {
             "colorbar": {
              "outlinewidth": 0,
              "ticks": ""
             }
            },
            "type": "scatterternary"
           }
          ],
          "surface": [
           {
            "colorbar": {
             "outlinewidth": 0,
             "ticks": ""
            },
            "colorscale": [
             [
              0,
              "#0d0887"
             ],
             [
              0.1111111111111111,
              "#46039f"
             ],
             [
              0.2222222222222222,
              "#7201a8"
             ],
             [
              0.3333333333333333,
              "#9c179e"
             ],
             [
              0.4444444444444444,
              "#bd3786"
             ],
             [
              0.5555555555555556,
              "#d8576b"
             ],
             [
              0.6666666666666666,
              "#ed7953"
             ],
             [
              0.7777777777777778,
              "#fb9f3a"
             ],
             [
              0.8888888888888888,
              "#fdca26"
             ],
             [
              1,
              "#f0f921"
             ]
            ],
            "type": "surface"
           }
          ],
          "table": [
           {
            "cells": {
             "fill": {
              "color": "#EBF0F8"
             },
             "line": {
              "color": "white"
             }
            },
            "header": {
             "fill": {
              "color": "#C8D4E3"
             },
             "line": {
              "color": "white"
             }
            },
            "type": "table"
           }
          ]
         },
         "layout": {
          "annotationdefaults": {
           "arrowcolor": "#2a3f5f",
           "arrowhead": 0,
           "arrowwidth": 1
          },
          "autotypenumbers": "strict",
          "coloraxis": {
           "colorbar": {
            "outlinewidth": 0,
            "ticks": ""
           }
          },
          "colorscale": {
           "diverging": [
            [
             0,
             "#8e0152"
            ],
            [
             0.1,
             "#c51b7d"
            ],
            [
             0.2,
             "#de77ae"
            ],
            [
             0.3,
             "#f1b6da"
            ],
            [
             0.4,
             "#fde0ef"
            ],
            [
             0.5,
             "#f7f7f7"
            ],
            [
             0.6,
             "#e6f5d0"
            ],
            [
             0.7,
             "#b8e186"
            ],
            [
             0.8,
             "#7fbc41"
            ],
            [
             0.9,
             "#4d9221"
            ],
            [
             1,
             "#276419"
            ]
           ],
           "sequential": [
            [
             0,
             "#0d0887"
            ],
            [
             0.1111111111111111,
             "#46039f"
            ],
            [
             0.2222222222222222,
             "#7201a8"
            ],
            [
             0.3333333333333333,
             "#9c179e"
            ],
            [
             0.4444444444444444,
             "#bd3786"
            ],
            [
             0.5555555555555556,
             "#d8576b"
            ],
            [
             0.6666666666666666,
             "#ed7953"
            ],
            [
             0.7777777777777778,
             "#fb9f3a"
            ],
            [
             0.8888888888888888,
             "#fdca26"
            ],
            [
             1,
             "#f0f921"
            ]
           ],
           "sequentialminus": [
            [
             0,
             "#0d0887"
            ],
            [
             0.1111111111111111,
             "#46039f"
            ],
            [
             0.2222222222222222,
             "#7201a8"
            ],
            [
             0.3333333333333333,
             "#9c179e"
            ],
            [
             0.4444444444444444,
             "#bd3786"
            ],
            [
             0.5555555555555556,
             "#d8576b"
            ],
            [
             0.6666666666666666,
             "#ed7953"
            ],
            [
             0.7777777777777778,
             "#fb9f3a"
            ],
            [
             0.8888888888888888,
             "#fdca26"
            ],
            [
             1,
             "#f0f921"
            ]
           ]
          },
          "colorway": [
           "#636efa",
           "#EF553B",
           "#00cc96",
           "#ab63fa",
           "#FFA15A",
           "#19d3f3",
           "#FF6692",
           "#B6E880",
           "#FF97FF",
           "#FECB52"
          ],
          "font": {
           "color": "#2a3f5f"
          },
          "geo": {
           "bgcolor": "white",
           "lakecolor": "white",
           "landcolor": "#E5ECF6",
           "showlakes": true,
           "showland": true,
           "subunitcolor": "white"
          },
          "hoverlabel": {
           "align": "left"
          },
          "hovermode": "closest",
          "mapbox": {
           "style": "light"
          },
          "paper_bgcolor": "white",
          "plot_bgcolor": "#E5ECF6",
          "polar": {
           "angularaxis": {
            "gridcolor": "white",
            "linecolor": "white",
            "ticks": ""
           },
           "bgcolor": "#E5ECF6",
           "radialaxis": {
            "gridcolor": "white",
            "linecolor": "white",
            "ticks": ""
           }
          },
          "scene": {
           "xaxis": {
            "backgroundcolor": "#E5ECF6",
            "gridcolor": "white",
            "gridwidth": 2,
            "linecolor": "white",
            "showbackground": true,
            "ticks": "",
            "zerolinecolor": "white"
           },
           "yaxis": {
            "backgroundcolor": "#E5ECF6",
            "gridcolor": "white",
            "gridwidth": 2,
            "linecolor": "white",
            "showbackground": true,
            "ticks": "",
            "zerolinecolor": "white"
           },
           "zaxis": {
            "backgroundcolor": "#E5ECF6",
            "gridcolor": "white",
            "gridwidth": 2,
            "linecolor": "white",
            "showbackground": true,
            "ticks": "",
            "zerolinecolor": "white"
           }
          },
          "shapedefaults": {
           "line": {
            "color": "#2a3f5f"
           }
          },
          "ternary": {
           "aaxis": {
            "gridcolor": "white",
            "linecolor": "white",
            "ticks": ""
           },
           "baxis": {
            "gridcolor": "white",
            "linecolor": "white",
            "ticks": ""
           },
           "bgcolor": "#E5ECF6",
           "caxis": {
            "gridcolor": "white",
            "linecolor": "white",
            "ticks": ""
           }
          },
          "title": {
           "x": 0.05
          },
          "xaxis": {
           "automargin": true,
           "gridcolor": "white",
           "linecolor": "white",
           "ticks": "",
           "title": {
            "standoff": 15
           },
           "zerolinecolor": "white",
           "zerolinewidth": 2
          },
          "yaxis": {
           "automargin": true,
           "gridcolor": "white",
           "linecolor": "white",
           "ticks": "",
           "title": {
            "standoff": 15
           },
           "zerolinecolor": "white",
           "zerolinewidth": 2
          }
         }
        },
        "title": {
         "text": "Histogram of Change in Health Scores"
        },
        "xaxis": {
         "anchor": "y",
         "domain": [
          0,
          1
         ],
         "title": {
          "text": "Change in Health Score"
         }
        },
        "yaxis": {
         "anchor": "x",
         "domain": [
          0,
          1
         ],
         "title": {
          "text": "Frequency"
         }
        }
       }
      },
      "text/html": [
       "<div>                            <div id=\"e90c6101-551f-47c3-9364-8baa83262984\" class=\"plotly-graph-div\" style=\"height:525px; width:100%;\"></div>            <script type=\"text/javascript\">                require([\"plotly\"], function(Plotly) {                    window.PLOTLYENV=window.PLOTLYENV || {};                                    if (document.getElementById(\"e90c6101-551f-47c3-9364-8baa83262984\")) {                    Plotly.newPlot(                        \"e90c6101-551f-47c3-9364-8baa83262984\",                        [{\"alignmentgroup\":\"True\",\"bingroup\":\"x\",\"hovertemplate\":\"Change in Health Score=%{x}\\u003cbr\\u003ecount=%{y}\\u003cextra\\u003e\\u003c\\u002fextra\\u003e\",\"legendgroup\":\"\",\"marker\":{\"color\":\"lightblue\",\"pattern\":{\"shape\":\"\"}},\"name\":\"\",\"offsetgroup\":\"\",\"orientation\":\"v\",\"showlegend\":false,\"x\":[2,8,-3,5,3,6,7,-3,7,1],\"xaxis\":\"x\",\"yaxis\":\"y\",\"type\":\"histogram\"}],                        {\"template\":{\"data\":{\"histogram2dcontour\":[{\"type\":\"histogram2dcontour\",\"colorbar\":{\"outlinewidth\":0,\"ticks\":\"\"},\"colorscale\":[[0.0,\"#0d0887\"],[0.1111111111111111,\"#46039f\"],[0.2222222222222222,\"#7201a8\"],[0.3333333333333333,\"#9c179e\"],[0.4444444444444444,\"#bd3786\"],[0.5555555555555556,\"#d8576b\"],[0.6666666666666666,\"#ed7953\"],[0.7777777777777778,\"#fb9f3a\"],[0.8888888888888888,\"#fdca26\"],[1.0,\"#f0f921\"]]}],\"choropleth\":[{\"type\":\"choropleth\",\"colorbar\":{\"outlinewidth\":0,\"ticks\":\"\"}}],\"histogram2d\":[{\"type\":\"histogram2d\",\"colorbar\":{\"outlinewidth\":0,\"ticks\":\"\"},\"colorscale\":[[0.0,\"#0d0887\"],[0.1111111111111111,\"#46039f\"],[0.2222222222222222,\"#7201a8\"],[0.3333333333333333,\"#9c179e\"],[0.4444444444444444,\"#bd3786\"],[0.5555555555555556,\"#d8576b\"],[0.6666666666666666,\"#ed7953\"],[0.7777777777777778,\"#fb9f3a\"],[0.8888888888888888,\"#fdca26\"],[1.0,\"#f0f921\"]]}],\"heatmap\":[{\"type\":\"heatmap\",\"colorbar\":{\"outlinewidth\":0,\"ticks\":\"\"},\"colorscale\":[[0.0,\"#0d0887\"],[0.1111111111111111,\"#46039f\"],[0.2222222222222222,\"#7201a8\"],[0.3333333333333333,\"#9c179e\"],[0.4444444444444444,\"#bd3786\"],[0.5555555555555556,\"#d8576b\"],[0.6666666666666666,\"#ed7953\"],[0.7777777777777778,\"#fb9f3a\"],[0.8888888888888888,\"#fdca26\"],[1.0,\"#f0f921\"]]}],\"heatmapgl\":[{\"type\":\"heatmapgl\",\"colorbar\":{\"outlinewidth\":0,\"ticks\":\"\"},\"colorscale\":[[0.0,\"#0d0887\"],[0.1111111111111111,\"#46039f\"],[0.2222222222222222,\"#7201a8\"],[0.3333333333333333,\"#9c179e\"],[0.4444444444444444,\"#bd3786\"],[0.5555555555555556,\"#d8576b\"],[0.6666666666666666,\"#ed7953\"],[0.7777777777777778,\"#fb9f3a\"],[0.8888888888888888,\"#fdca26\"],[1.0,\"#f0f921\"]]}],\"contourcarpet\":[{\"type\":\"contourcarpet\",\"colorbar\":{\"outlinewidth\":0,\"ticks\":\"\"}}],\"contour\":[{\"type\":\"contour\",\"colorbar\":{\"outlinewidth\":0,\"ticks\":\"\"},\"colorscale\":[[0.0,\"#0d0887\"],[0.1111111111111111,\"#46039f\"],[0.2222222222222222,\"#7201a8\"],[0.3333333333333333,\"#9c179e\"],[0.4444444444444444,\"#bd3786\"],[0.5555555555555556,\"#d8576b\"],[0.6666666666666666,\"#ed7953\"],[0.7777777777777778,\"#fb9f3a\"],[0.8888888888888888,\"#fdca26\"],[1.0,\"#f0f921\"]]}],\"surface\":[{\"type\":\"surface\",\"colorbar\":{\"outlinewidth\":0,\"ticks\":\"\"},\"colorscale\":[[0.0,\"#0d0887\"],[0.1111111111111111,\"#46039f\"],[0.2222222222222222,\"#7201a8\"],[0.3333333333333333,\"#9c179e\"],[0.4444444444444444,\"#bd3786\"],[0.5555555555555556,\"#d8576b\"],[0.6666666666666666,\"#ed7953\"],[0.7777777777777778,\"#fb9f3a\"],[0.8888888888888888,\"#fdca26\"],[1.0,\"#f0f921\"]]}],\"mesh3d\":[{\"type\":\"mesh3d\",\"colorbar\":{\"outlinewidth\":0,\"ticks\":\"\"}}],\"scatter\":[{\"fillpattern\":{\"fillmode\":\"overlay\",\"size\":10,\"solidity\":0.2},\"type\":\"scatter\"}],\"parcoords\":[{\"type\":\"parcoords\",\"line\":{\"colorbar\":{\"outlinewidth\":0,\"ticks\":\"\"}}}],\"scatterpolargl\":[{\"type\":\"scatterpolargl\",\"marker\":{\"colorbar\":{\"outlinewidth\":0,\"ticks\":\"\"}}}],\"bar\":[{\"error_x\":{\"color\":\"#2a3f5f\"},\"error_y\":{\"color\":\"#2a3f5f\"},\"marker\":{\"line\":{\"color\":\"#E5ECF6\",\"width\":0.5},\"pattern\":{\"fillmode\":\"overlay\",\"size\":10,\"solidity\":0.2}},\"type\":\"bar\"}],\"scattergeo\":[{\"type\":\"scattergeo\",\"marker\":{\"colorbar\":{\"outlinewidth\":0,\"ticks\":\"\"}}}],\"scatterpolar\":[{\"type\":\"scatterpolar\",\"marker\":{\"colorbar\":{\"outlinewidth\":0,\"ticks\":\"\"}}}],\"histogram\":[{\"marker\":{\"pattern\":{\"fillmode\":\"overlay\",\"size\":10,\"solidity\":0.2}},\"type\":\"histogram\"}],\"scattergl\":[{\"type\":\"scattergl\",\"marker\":{\"colorbar\":{\"outlinewidth\":0,\"ticks\":\"\"}}}],\"scatter3d\":[{\"type\":\"scatter3d\",\"line\":{\"colorbar\":{\"outlinewidth\":0,\"ticks\":\"\"}},\"marker\":{\"colorbar\":{\"outlinewidth\":0,\"ticks\":\"\"}}}],\"scattermapbox\":[{\"type\":\"scattermapbox\",\"marker\":{\"colorbar\":{\"outlinewidth\":0,\"ticks\":\"\"}}}],\"scatterternary\":[{\"type\":\"scatterternary\",\"marker\":{\"colorbar\":{\"outlinewidth\":0,\"ticks\":\"\"}}}],\"scattercarpet\":[{\"type\":\"scattercarpet\",\"marker\":{\"colorbar\":{\"outlinewidth\":0,\"ticks\":\"\"}}}],\"carpet\":[{\"aaxis\":{\"endlinecolor\":\"#2a3f5f\",\"gridcolor\":\"white\",\"linecolor\":\"white\",\"minorgridcolor\":\"white\",\"startlinecolor\":\"#2a3f5f\"},\"baxis\":{\"endlinecolor\":\"#2a3f5f\",\"gridcolor\":\"white\",\"linecolor\":\"white\",\"minorgridcolor\":\"white\",\"startlinecolor\":\"#2a3f5f\"},\"type\":\"carpet\"}],\"table\":[{\"cells\":{\"fill\":{\"color\":\"#EBF0F8\"},\"line\":{\"color\":\"white\"}},\"header\":{\"fill\":{\"color\":\"#C8D4E3\"},\"line\":{\"color\":\"white\"}},\"type\":\"table\"}],\"barpolar\":[{\"marker\":{\"line\":{\"color\":\"#E5ECF6\",\"width\":0.5},\"pattern\":{\"fillmode\":\"overlay\",\"size\":10,\"solidity\":0.2}},\"type\":\"barpolar\"}],\"pie\":[{\"automargin\":true,\"type\":\"pie\"}]},\"layout\":{\"autotypenumbers\":\"strict\",\"colorway\":[\"#636efa\",\"#EF553B\",\"#00cc96\",\"#ab63fa\",\"#FFA15A\",\"#19d3f3\",\"#FF6692\",\"#B6E880\",\"#FF97FF\",\"#FECB52\"],\"font\":{\"color\":\"#2a3f5f\"},\"hovermode\":\"closest\",\"hoverlabel\":{\"align\":\"left\"},\"paper_bgcolor\":\"white\",\"plot_bgcolor\":\"#E5ECF6\",\"polar\":{\"bgcolor\":\"#E5ECF6\",\"angularaxis\":{\"gridcolor\":\"white\",\"linecolor\":\"white\",\"ticks\":\"\"},\"radialaxis\":{\"gridcolor\":\"white\",\"linecolor\":\"white\",\"ticks\":\"\"}},\"ternary\":{\"bgcolor\":\"#E5ECF6\",\"aaxis\":{\"gridcolor\":\"white\",\"linecolor\":\"white\",\"ticks\":\"\"},\"baxis\":{\"gridcolor\":\"white\",\"linecolor\":\"white\",\"ticks\":\"\"},\"caxis\":{\"gridcolor\":\"white\",\"linecolor\":\"white\",\"ticks\":\"\"}},\"coloraxis\":{\"colorbar\":{\"outlinewidth\":0,\"ticks\":\"\"}},\"colorscale\":{\"sequential\":[[0.0,\"#0d0887\"],[0.1111111111111111,\"#46039f\"],[0.2222222222222222,\"#7201a8\"],[0.3333333333333333,\"#9c179e\"],[0.4444444444444444,\"#bd3786\"],[0.5555555555555556,\"#d8576b\"],[0.6666666666666666,\"#ed7953\"],[0.7777777777777778,\"#fb9f3a\"],[0.8888888888888888,\"#fdca26\"],[1.0,\"#f0f921\"]],\"sequentialminus\":[[0.0,\"#0d0887\"],[0.1111111111111111,\"#46039f\"],[0.2222222222222222,\"#7201a8\"],[0.3333333333333333,\"#9c179e\"],[0.4444444444444444,\"#bd3786\"],[0.5555555555555556,\"#d8576b\"],[0.6666666666666666,\"#ed7953\"],[0.7777777777777778,\"#fb9f3a\"],[0.8888888888888888,\"#fdca26\"],[1.0,\"#f0f921\"]],\"diverging\":[[0,\"#8e0152\"],[0.1,\"#c51b7d\"],[0.2,\"#de77ae\"],[0.3,\"#f1b6da\"],[0.4,\"#fde0ef\"],[0.5,\"#f7f7f7\"],[0.6,\"#e6f5d0\"],[0.7,\"#b8e186\"],[0.8,\"#7fbc41\"],[0.9,\"#4d9221\"],[1,\"#276419\"]]},\"xaxis\":{\"gridcolor\":\"white\",\"linecolor\":\"white\",\"ticks\":\"\",\"title\":{\"standoff\":15},\"zerolinecolor\":\"white\",\"automargin\":true,\"zerolinewidth\":2},\"yaxis\":{\"gridcolor\":\"white\",\"linecolor\":\"white\",\"ticks\":\"\",\"title\":{\"standoff\":15},\"zerolinecolor\":\"white\",\"automargin\":true,\"zerolinewidth\":2},\"scene\":{\"xaxis\":{\"backgroundcolor\":\"#E5ECF6\",\"gridcolor\":\"white\",\"linecolor\":\"white\",\"showbackground\":true,\"ticks\":\"\",\"zerolinecolor\":\"white\",\"gridwidth\":2},\"yaxis\":{\"backgroundcolor\":\"#E5ECF6\",\"gridcolor\":\"white\",\"linecolor\":\"white\",\"showbackground\":true,\"ticks\":\"\",\"zerolinecolor\":\"white\",\"gridwidth\":2},\"zaxis\":{\"backgroundcolor\":\"#E5ECF6\",\"gridcolor\":\"white\",\"linecolor\":\"white\",\"showbackground\":true,\"ticks\":\"\",\"zerolinecolor\":\"white\",\"gridwidth\":2}},\"shapedefaults\":{\"line\":{\"color\":\"#2a3f5f\"}},\"annotationdefaults\":{\"arrowcolor\":\"#2a3f5f\",\"arrowhead\":0,\"arrowwidth\":1},\"geo\":{\"bgcolor\":\"white\",\"landcolor\":\"#E5ECF6\",\"subunitcolor\":\"white\",\"showland\":true,\"showlakes\":true,\"lakecolor\":\"white\"},\"title\":{\"x\":0.05},\"mapbox\":{\"style\":\"light\"}}},\"xaxis\":{\"anchor\":\"y\",\"domain\":[0.0,1.0],\"title\":{\"text\":\"Change in Health Score\"}},\"yaxis\":{\"anchor\":\"x\",\"domain\":[0.0,1.0],\"title\":{\"text\":\"Frequency\"}},\"legend\":{\"tracegroupgap\":0},\"title\":{\"text\":\"Histogram of Change in Health Scores\"},\"barmode\":\"relative\",\"bargap\":0.2},                        {\"responsive\": true}                    ).then(function(){\n",
       "                            \n",
       "var gd = document.getElementById('e90c6101-551f-47c3-9364-8baa83262984');\n",
       "var x = new MutationObserver(function (mutations, observer) {{\n",
       "        var display = window.getComputedStyle(gd).display;\n",
       "        if (!display || display === 'none') {{\n",
       "            console.log([gd, 'removed!']);\n",
       "            Plotly.purge(gd);\n",
       "            observer.disconnect();\n",
       "        }}\n",
       "}});\n",
       "\n",
       "// Listen for the removal of the full notebook cells\n",
       "var notebookContainer = gd.closest('#notebook-container');\n",
       "if (notebookContainer) {{\n",
       "    x.observe(notebookContainer, {childList: true});\n",
       "}}\n",
       "\n",
       "// Listen for the clearing of the current output cell\n",
       "var outputEl = gd.closest('.output');\n",
       "if (outputEl) {{\n",
       "    x.observe(outputEl, {childList: true});\n",
       "}}\n",
       "\n",
       "                        })                };                });            </script>        </div>"
      ]
     },
     "metadata": {},
     "output_type": "display_data"
    }
   ],
   "source": [
    "import pandas as pd\n",
    "import plotly.express as px\n",
    "\n",
    "# Creating the dataset\n",
    "data = {\n",
    "    'PatientID': [1, 2, 3, 4, 5, 6, 7, 8, 9, 10],\n",
    "    'Age': [45, 34, 29, 52, 37, 41, 33, 48, 26, 39],\n",
    "    'Gender': ['M', 'F', 'M', 'F', 'M', 'F', 'M', 'F', 'M', 'F'],\n",
    "    'InitialHealthScore': [84, 78, 83, 81, 81, 80, 79, 85, 76, 83],\n",
    "    'FinalHealthScore': [86, 86, 80, 86, 84, 86, 86, 82, 83, 84]\n",
    "}\n",
    "\n",
    "# Load data into a DataFrame\n",
    "df = pd.DataFrame(data)\n",
    "\n",
    "# Calculate the change in health scores\n",
    "df['ChangeInHealthScore'] = df['FinalHealthScore'] - df['InitialHealthScore']\n",
    "\n",
    "# Create a histogram of the change in health scores\n",
    "fig_hist = px.histogram(df, x='ChangeInHealthScore', \n",
    "                         title='Histogram of Change in Health Scores',\n",
    "                         labels={'ChangeInHealthScore': 'Change in Health Score'},\n",
    "                         color_discrete_sequence=['lightblue'])\n",
    "\n",
    "# Update layout to enhance readability\n",
    "fig_hist.update_layout(\n",
    "    xaxis_title='Change in Health Score',\n",
    "    yaxis_title='Frequency',\n",
    "    bargap=0.2\n",
    ")\n",
    "\n",
    "# Show the histogram\n",
    "fig_hist.show()\n"
   ]
  },
  {
   "cell_type": "markdown",
   "id": "2a10d64f",
   "metadata": {},
   "source": [
    "### using bootstrapping now to represent the data:"
   ]
  },
  {
   "cell_type": "code",
   "execution_count": 13,
   "id": "74cc3e87",
   "metadata": {},
   "outputs": [
    {
     "data": {
      "application/vnd.plotly.v1+json": {
       "config": {
        "plotlyServerURL": "https://plot.ly"
       },
       "data": [
        {
         "alignmentgroup": "True",
         "bingroup": "x",
         "hovertemplate": "variable=0<br>Bootstrap Mean Change in Health Score=%{x}<br>count=%{y}<extra></extra>",
         "legendgroup": "0",
         "marker": {
          "color": "lightblue",
          "pattern": {
           "shape": ""
          }
         },
         "name": "0",
         "nbinsx": 30,
         "offsetgroup": "0",
         "orientation": "v",
         "showlegend": true,
         "type": "histogram",
         "x": [
          2.4,
          2.4,
          3.1,
          4.1,
          4.4,
          3.5,
          4.5,
          3.2,
          0,
          2.9,
          2.1,
          2.6,
          3.5,
          4.5,
          5.2,
          1.4,
          4,
          2.7,
          3.6,
          3.6,
          2.3,
          3.2,
          4.4,
          4.1,
          0.5,
          2.6,
          4.3,
          1.7,
          3.3,
          1.9,
          2.1,
          1.9,
          3.9,
          3.2,
          4.3,
          3.4,
          3.3,
          2.8,
          1.9,
          3.4,
          2.6,
          3.8,
          4.1,
          0.9,
          2.5,
          1.2,
          2.2,
          4.3,
          2.2,
          3.6,
          4,
          2.4,
          4.2,
          3.4,
          4.1,
          3.4,
          2.4,
          3.3,
          3.4,
          3.3,
          2.7,
          2.3,
          4.1,
          2.8,
          3.9,
          3.7,
          2.7,
          1.4,
          3.9,
          3.8,
          6.1,
          2.7,
          2.2,
          3.4,
          0.9,
          4,
          3.8,
          1.3,
          2.6,
          3.3,
          4.3,
          2.4,
          3.7,
          4.2,
          2.3,
          3.9,
          2.1,
          2.8,
          3,
          4.4,
          1.9,
          1.8,
          2.7,
          2.9,
          1.5,
          3.2,
          4.4,
          1.9,
          2.7,
          2.7,
          1.2,
          3.3,
          4.1,
          3.4,
          5.4,
          2.7,
          3.8,
          4.1,
          0.2,
          3.8,
          3.5,
          2.4,
          0.2,
          5.2,
          3.2,
          4.2,
          2.7,
          3.2,
          5.1,
          4.9,
          4.7,
          3,
          1.9,
          3.2,
          1.8,
          4.2,
          2.6,
          3,
          2,
          3.8,
          3.9,
          4.5,
          1.6,
          4.3,
          3.9,
          3.9,
          3.2,
          3.8,
          3.4,
          2.4,
          3.3,
          1,
          3.4,
          4.2,
          2.6,
          0.1,
          2.2,
          3.3,
          5.1,
          3.1,
          4.5,
          3.5,
          4.2,
          4.1,
          2,
          2.5,
          2.6,
          4.2,
          2.6,
          5,
          3,
          3.4,
          5.3,
          4.3,
          3.9,
          3.7,
          2.9,
          1.9,
          2.3,
          3,
          4.2,
          0.9,
          5.3,
          5.3,
          2,
          2.1,
          3.5,
          4.2,
          2.1,
          4.7,
          5.1,
          4.2,
          2.9,
          2.5,
          5.6,
          5.6,
          3.5,
          2.4,
          0.9,
          5.1,
          4.8,
          2.2,
          5.1,
          2.6,
          4.1,
          1.6,
          2.6,
          4,
          3.2,
          4.2,
          3,
          3,
          4,
          2.1,
          4.5,
          4.6,
          1.1,
          3.8,
          5.4,
          4.4,
          4.4,
          2.2,
          4.6,
          4.9,
          3.3,
          4.5,
          4.3,
          2.7,
          4.4,
          4.5,
          3.9,
          4.1,
          3,
          3.7,
          3.5,
          2.5,
          1.7,
          0.6,
          1.4,
          1.3,
          5.3,
          4.3,
          3.7,
          3.1,
          3.8,
          4.9,
          2.5,
          2.3,
          0.9,
          5.6,
          4.1,
          2.3,
          1.7,
          5,
          1.4,
          1.9,
          4.1,
          4.8,
          3.7,
          0.4,
          3.4,
          4.3,
          3.4,
          3.6,
          4.1,
          3.2,
          2.7,
          2.2,
          4.8,
          4.4,
          5.2,
          1.7,
          2.8,
          2.7,
          1.6,
          1.9,
          3.1,
          3.2,
          2.8,
          4.9,
          4.2,
          4.4,
          2,
          3.5,
          3.5,
          3.2,
          2.9,
          3.6,
          2.2,
          2.7,
          3.2,
          2.1,
          3,
          4.2,
          3.5,
          2,
          2.4,
          3.5,
          5.3,
          2.3,
          0.2,
          3.7,
          2.2,
          1.1,
          3.4,
          4.9,
          3.3,
          3.9,
          2.9,
          3.6,
          4.3,
          2.4,
          3.9,
          1.7,
          2.8,
          2.1,
          2.4,
          4.2,
          5,
          1.6,
          0.7,
          2.6,
          3,
          3.7,
          2.7,
          2.6,
          2.7,
          2.5,
          2.3,
          1,
          2,
          4.1,
          1.8,
          4.6,
          3.5,
          2.8,
          3.7,
          4.1,
          5.4,
          3.3,
          4.9,
          1.4,
          3.3,
          3.4,
          2,
          5.7,
          5.1,
          2.3,
          3.5,
          3.4,
          2.5,
          2.7,
          5.1,
          4.9,
          2.2,
          2.8,
          4.3,
          1.8,
          4.5,
          3.6,
          5.5,
          3.1,
          3.1,
          4.2,
          3.4,
          4.1,
          2,
          3.2,
          2.2,
          4.6,
          3.9,
          3.8,
          0.6,
          3.7,
          2.6,
          0.6,
          3.6,
          4.4,
          3.9,
          3.5,
          3.7,
          4.2,
          4.2,
          2.8,
          5.8,
          2.2,
          1.8,
          3.3,
          0,
          4.2,
          2.2,
          2.5,
          3.6,
          5.1,
          2.6,
          4,
          3.3,
          4.4,
          4.2,
          4.4,
          1.4,
          5.1,
          3.2,
          4.7,
          2.2,
          4.1,
          3.5,
          0.6,
          4.3,
          3.3,
          5.9,
          3.7,
          3.6,
          1.9,
          4.2,
          3.2,
          3.3,
          4.8,
          4.6,
          2,
          2.8,
          1.4,
          3.2,
          2.4,
          2.4,
          3.3,
          2.9,
          4,
          2.1,
          4.5,
          2.1,
          3,
          2.4,
          2.6,
          3.3,
          4.5,
          2.5,
          3.6,
          1.6,
          1.9,
          2.7,
          1.8,
          3.4,
          3.3,
          5.2,
          4.7,
          4.7,
          2.6,
          3.1,
          2.3,
          1.9,
          4,
          4.9,
          1.2,
          0.7,
          3.5,
          2.9,
          3.5,
          3.9,
          3.3,
          4.4,
          3.1,
          3.3,
          1.7,
          4.9,
          3.8,
          1.4,
          5.8,
          3.4,
          4.5,
          2.1,
          2,
          3.3,
          -0.3,
          3.9,
          2.8,
          1.2,
          2.8,
          1.8,
          0.2,
          3.9,
          4.7,
          4.4,
          3.1,
          2.9,
          2.8,
          3.3,
          2.7,
          3.9,
          3.6,
          2.1,
          1.4,
          4.1,
          4.4,
          0,
          3.1,
          3.3,
          1.7,
          5,
          3.6,
          2.1,
          2.6,
          4.4,
          3.9,
          4,
          4.2,
          3,
          4.5,
          1.4,
          3.9,
          3.9,
          5.3,
          4,
          6,
          4.4,
          2.5,
          3,
          4,
          2.2,
          3.2,
          2.5,
          5.8,
          4.8,
          4.1,
          3,
          3.6,
          3.6,
          4.9,
          1.9,
          4.3,
          3.8,
          1.6,
          1.7,
          4.3,
          0.9,
          2.6,
          3.4,
          2.5,
          3,
          5.2,
          4.7,
          1.2,
          4.8,
          5.2,
          3.9,
          2.5,
          4.2,
          5.2,
          1.9,
          4.1,
          5.1,
          3.9,
          4.6,
          5.1,
          3.3,
          0.2,
          1.6,
          5.5,
          1.6,
          5.2,
          3.3,
          3,
          6.6,
          2.4,
          3.4,
          1.3,
          3.7,
          4,
          4.3,
          3.8,
          2.9,
          6.3,
          1.3,
          3.2,
          2.9,
          4.3,
          4,
          3.3,
          5.2,
          1.8,
          2.8,
          3.6,
          5.3,
          2.7,
          3.2,
          2.1,
          3.1,
          4.4,
          1.3,
          2.2,
          3,
          4.5,
          1.5,
          5,
          4.1,
          5.4,
          3.2,
          4.4,
          4,
          4.7,
          5,
          4.3,
          3.1,
          3.4,
          2.8,
          3.9,
          1,
          3.3,
          3.8,
          2.7,
          3.6,
          1.8,
          5.4,
          4.3,
          3.8,
          4.8,
          3.2,
          5.1,
          4.9,
          0.9,
          5.8,
          2,
          3.5,
          3.4,
          3.4,
          2.8,
          2.6,
          1,
          3.3,
          2.6,
          4.4,
          2.3,
          4.4,
          3.1,
          4.1,
          2.9,
          3.2,
          1.9,
          3.2,
          3.7,
          3.5,
          2.9,
          4.2,
          4.5,
          4,
          0.5,
          3.2,
          3.9,
          4.5,
          1.9,
          3.5,
          2.7,
          3.7,
          1.9,
          3.1,
          2.9,
          3.2,
          2.7,
          2.9,
          4.2,
          2.5,
          2.9,
          4.2,
          5.9,
          2.1,
          4.8,
          2.7,
          2.8,
          4.5,
          4.7,
          3.9,
          5,
          1.7,
          3,
          2.5,
          3.6,
          4.8,
          0,
          5.2,
          2.6,
          3.9,
          4.2,
          3.7,
          1.7,
          1.7,
          4.6,
          5.4,
          3.3,
          5,
          5.6,
          4.1,
          5.1,
          1.8,
          2.5,
          1.3,
          1.3,
          3.1,
          3.4,
          3.4,
          1.4,
          2.4,
          6.4,
          5,
          5,
          3.4,
          5.1,
          3.4,
          2.1,
          3.7,
          3.6,
          4.3,
          3.1,
          2,
          3.1,
          2.5,
          2.8,
          4.7,
          3.9,
          2.1,
          4.4,
          4,
          4.7,
          2.4,
          0.5,
          2.3,
          6.1,
          3.9,
          3.5,
          2.2,
          5,
          5.8,
          2.6,
          2.3,
          3.2,
          4.2,
          5.4,
          2.8,
          4.8,
          3.2,
          2.7,
          6.2,
          3.4,
          2.2,
          4.5,
          4.3,
          0.4,
          2,
          2.6,
          4.1,
          4.4,
          2.7,
          3.9,
          4.7,
          3.4,
          2.9,
          4.5,
          2,
          3,
          1.2,
          5,
          2.6,
          3.3,
          3.2,
          4.4,
          5.3,
          1.2,
          3.9,
          2.6,
          5.1,
          4.1,
          3.4,
          3.3,
          4.3,
          2.3,
          2.1,
          2.8,
          4.1,
          4.4,
          1.4,
          3.9,
          2.9,
          4.2,
          3,
          3.1,
          3.3,
          3.1,
          2.6,
          4.8,
          1.6,
          3.4,
          3.4,
          2.1,
          4.2,
          5.8,
          1.2,
          4,
          3.4,
          1,
          5.1,
          2.5,
          2.9,
          4.5,
          2.4,
          3.3,
          1.5,
          3.2,
          4.1,
          1,
          4.3,
          4.9,
          3.8,
          3.6,
          3.4,
          3.3,
          1.3,
          4.1,
          4.7,
          3.7,
          4.2,
          3.8,
          4.3,
          4.2,
          3.4,
          3.4,
          0.7,
          4,
          3.9,
          3.5,
          3.7,
          4.7,
          3.9,
          4.1,
          4,
          3.3,
          4.3,
          5.4,
          4.1,
          0.4,
          4.4,
          0.1,
          4.4,
          5.3,
          2.1,
          3.5,
          3.6,
          2.5,
          6.1,
          3.8,
          2.7,
          3,
          2.3,
          2,
          1,
          4.3,
          3.9,
          3.5,
          2.4,
          3.6,
          3.1,
          3.5,
          5.2,
          4.7,
          3.1,
          2.9,
          4.7,
          3.8,
          2.4,
          4.7,
          4.2,
          5.1,
          2.3,
          5.3,
          2.8,
          2.7,
          4.8,
          4.5,
          2.7,
          3.9,
          1.7,
          1.3,
          2.1,
          4.9,
          1.3,
          2.3,
          2.7,
          4.5,
          3,
          5.6,
          5,
          2.5,
          2.4,
          4.9,
          3.6,
          3.4,
          4.9,
          1.7,
          4.9,
          2,
          2.6,
          2.7,
          4.2,
          4.1,
          3.5,
          3.5,
          2.9,
          4.7,
          3.4,
          1.9,
          5.1,
          2.4,
          0.3,
          4,
          3.3,
          2.4,
          2.8,
          3.3,
          5.5,
          2.6,
          4.8,
          3.3,
          3,
          4,
          4.2,
          3.4,
          2.2,
          2.2,
          3.3,
          4.1,
          3.2,
          2.7,
          5.1,
          3.4,
          2,
          3.2,
          2.9,
          1.7,
          5.9,
          3.8,
          3,
          3.8,
          1.9,
          1.8,
          0.6,
          2.9,
          4.6,
          2.5,
          2.8,
          4.1,
          2.9,
          1.6,
          3.1,
          4.4,
          3,
          3.6,
          1,
          4.2,
          3.9,
          3.6,
          2.8,
          1.7,
          4,
          1.6,
          4.6,
          4.2,
          1.3,
          6.3,
          3.3,
          3.1,
          4.2,
          5.5,
          5,
          3.1,
          4.6,
          2,
          1.8,
          1.4,
          2,
          3.1,
          4.2,
          3,
          2.1,
          2,
          3,
          5,
          5.2,
          5.3,
          1.5,
          3.2,
          2.5,
          3.9,
          2.6,
          4.4,
          3.8,
          4.2,
          1.8,
          3.9,
          3.3,
          5.4,
          4.2,
          1.8,
          3.9,
          2.2,
          2.4,
          4.1,
          3.6,
          2.7,
          3.7,
          2.3,
          3.5,
          2.6
         ],
         "xaxis": "x",
         "yaxis": "y"
        }
       ],
       "layout": {
        "bargap": 0.2,
        "barmode": "relative",
        "legend": {
         "title": {
          "text": "variable"
         },
         "tracegroupgap": 0
        },
        "template": {
         "data": {
          "bar": [
           {
            "error_x": {
             "color": "#2a3f5f"
            },
            "error_y": {
             "color": "#2a3f5f"
            },
            "marker": {
             "line": {
              "color": "#E5ECF6",
              "width": 0.5
             },
             "pattern": {
              "fillmode": "overlay",
              "size": 10,
              "solidity": 0.2
             }
            },
            "type": "bar"
           }
          ],
          "barpolar": [
           {
            "marker": {
             "line": {
              "color": "#E5ECF6",
              "width": 0.5
             },
             "pattern": {
              "fillmode": "overlay",
              "size": 10,
              "solidity": 0.2
             }
            },
            "type": "barpolar"
           }
          ],
          "carpet": [
           {
            "aaxis": {
             "endlinecolor": "#2a3f5f",
             "gridcolor": "white",
             "linecolor": "white",
             "minorgridcolor": "white",
             "startlinecolor": "#2a3f5f"
            },
            "baxis": {
             "endlinecolor": "#2a3f5f",
             "gridcolor": "white",
             "linecolor": "white",
             "minorgridcolor": "white",
             "startlinecolor": "#2a3f5f"
            },
            "type": "carpet"
           }
          ],
          "choropleth": [
           {
            "colorbar": {
             "outlinewidth": 0,
             "ticks": ""
            },
            "type": "choropleth"
           }
          ],
          "contour": [
           {
            "colorbar": {
             "outlinewidth": 0,
             "ticks": ""
            },
            "colorscale": [
             [
              0,
              "#0d0887"
             ],
             [
              0.1111111111111111,
              "#46039f"
             ],
             [
              0.2222222222222222,
              "#7201a8"
             ],
             [
              0.3333333333333333,
              "#9c179e"
             ],
             [
              0.4444444444444444,
              "#bd3786"
             ],
             [
              0.5555555555555556,
              "#d8576b"
             ],
             [
              0.6666666666666666,
              "#ed7953"
             ],
             [
              0.7777777777777778,
              "#fb9f3a"
             ],
             [
              0.8888888888888888,
              "#fdca26"
             ],
             [
              1,
              "#f0f921"
             ]
            ],
            "type": "contour"
           }
          ],
          "contourcarpet": [
           {
            "colorbar": {
             "outlinewidth": 0,
             "ticks": ""
            },
            "type": "contourcarpet"
           }
          ],
          "heatmap": [
           {
            "colorbar": {
             "outlinewidth": 0,
             "ticks": ""
            },
            "colorscale": [
             [
              0,
              "#0d0887"
             ],
             [
              0.1111111111111111,
              "#46039f"
             ],
             [
              0.2222222222222222,
              "#7201a8"
             ],
             [
              0.3333333333333333,
              "#9c179e"
             ],
             [
              0.4444444444444444,
              "#bd3786"
             ],
             [
              0.5555555555555556,
              "#d8576b"
             ],
             [
              0.6666666666666666,
              "#ed7953"
             ],
             [
              0.7777777777777778,
              "#fb9f3a"
             ],
             [
              0.8888888888888888,
              "#fdca26"
             ],
             [
              1,
              "#f0f921"
             ]
            ],
            "type": "heatmap"
           }
          ],
          "heatmapgl": [
           {
            "colorbar": {
             "outlinewidth": 0,
             "ticks": ""
            },
            "colorscale": [
             [
              0,
              "#0d0887"
             ],
             [
              0.1111111111111111,
              "#46039f"
             ],
             [
              0.2222222222222222,
              "#7201a8"
             ],
             [
              0.3333333333333333,
              "#9c179e"
             ],
             [
              0.4444444444444444,
              "#bd3786"
             ],
             [
              0.5555555555555556,
              "#d8576b"
             ],
             [
              0.6666666666666666,
              "#ed7953"
             ],
             [
              0.7777777777777778,
              "#fb9f3a"
             ],
             [
              0.8888888888888888,
              "#fdca26"
             ],
             [
              1,
              "#f0f921"
             ]
            ],
            "type": "heatmapgl"
           }
          ],
          "histogram": [
           {
            "marker": {
             "pattern": {
              "fillmode": "overlay",
              "size": 10,
              "solidity": 0.2
             }
            },
            "type": "histogram"
           }
          ],
          "histogram2d": [
           {
            "colorbar": {
             "outlinewidth": 0,
             "ticks": ""
            },
            "colorscale": [
             [
              0,
              "#0d0887"
             ],
             [
              0.1111111111111111,
              "#46039f"
             ],
             [
              0.2222222222222222,
              "#7201a8"
             ],
             [
              0.3333333333333333,
              "#9c179e"
             ],
             [
              0.4444444444444444,
              "#bd3786"
             ],
             [
              0.5555555555555556,
              "#d8576b"
             ],
             [
              0.6666666666666666,
              "#ed7953"
             ],
             [
              0.7777777777777778,
              "#fb9f3a"
             ],
             [
              0.8888888888888888,
              "#fdca26"
             ],
             [
              1,
              "#f0f921"
             ]
            ],
            "type": "histogram2d"
           }
          ],
          "histogram2dcontour": [
           {
            "colorbar": {
             "outlinewidth": 0,
             "ticks": ""
            },
            "colorscale": [
             [
              0,
              "#0d0887"
             ],
             [
              0.1111111111111111,
              "#46039f"
             ],
             [
              0.2222222222222222,
              "#7201a8"
             ],
             [
              0.3333333333333333,
              "#9c179e"
             ],
             [
              0.4444444444444444,
              "#bd3786"
             ],
             [
              0.5555555555555556,
              "#d8576b"
             ],
             [
              0.6666666666666666,
              "#ed7953"
             ],
             [
              0.7777777777777778,
              "#fb9f3a"
             ],
             [
              0.8888888888888888,
              "#fdca26"
             ],
             [
              1,
              "#f0f921"
             ]
            ],
            "type": "histogram2dcontour"
           }
          ],
          "mesh3d": [
           {
            "colorbar": {
             "outlinewidth": 0,
             "ticks": ""
            },
            "type": "mesh3d"
           }
          ],
          "parcoords": [
           {
            "line": {
             "colorbar": {
              "outlinewidth": 0,
              "ticks": ""
             }
            },
            "type": "parcoords"
           }
          ],
          "pie": [
           {
            "automargin": true,
            "type": "pie"
           }
          ],
          "scatter": [
           {
            "fillpattern": {
             "fillmode": "overlay",
             "size": 10,
             "solidity": 0.2
            },
            "type": "scatter"
           }
          ],
          "scatter3d": [
           {
            "line": {
             "colorbar": {
              "outlinewidth": 0,
              "ticks": ""
             }
            },
            "marker": {
             "colorbar": {
              "outlinewidth": 0,
              "ticks": ""
             }
            },
            "type": "scatter3d"
           }
          ],
          "scattercarpet": [
           {
            "marker": {
             "colorbar": {
              "outlinewidth": 0,
              "ticks": ""
             }
            },
            "type": "scattercarpet"
           }
          ],
          "scattergeo": [
           {
            "marker": {
             "colorbar": {
              "outlinewidth": 0,
              "ticks": ""
             }
            },
            "type": "scattergeo"
           }
          ],
          "scattergl": [
           {
            "marker": {
             "colorbar": {
              "outlinewidth": 0,
              "ticks": ""
             }
            },
            "type": "scattergl"
           }
          ],
          "scattermapbox": [
           {
            "marker": {
             "colorbar": {
              "outlinewidth": 0,
              "ticks": ""
             }
            },
            "type": "scattermapbox"
           }
          ],
          "scatterpolar": [
           {
            "marker": {
             "colorbar": {
              "outlinewidth": 0,
              "ticks": ""
             }
            },
            "type": "scatterpolar"
           }
          ],
          "scatterpolargl": [
           {
            "marker": {
             "colorbar": {
              "outlinewidth": 0,
              "ticks": ""
             }
            },
            "type": "scatterpolargl"
           }
          ],
          "scatterternary": [
           {
            "marker": {
             "colorbar": {
              "outlinewidth": 0,
              "ticks": ""
             }
            },
            "type": "scatterternary"
           }
          ],
          "surface": [
           {
            "colorbar": {
             "outlinewidth": 0,
             "ticks": ""
            },
            "colorscale": [
             [
              0,
              "#0d0887"
             ],
             [
              0.1111111111111111,
              "#46039f"
             ],
             [
              0.2222222222222222,
              "#7201a8"
             ],
             [
              0.3333333333333333,
              "#9c179e"
             ],
             [
              0.4444444444444444,
              "#bd3786"
             ],
             [
              0.5555555555555556,
              "#d8576b"
             ],
             [
              0.6666666666666666,
              "#ed7953"
             ],
             [
              0.7777777777777778,
              "#fb9f3a"
             ],
             [
              0.8888888888888888,
              "#fdca26"
             ],
             [
              1,
              "#f0f921"
             ]
            ],
            "type": "surface"
           }
          ],
          "table": [
           {
            "cells": {
             "fill": {
              "color": "#EBF0F8"
             },
             "line": {
              "color": "white"
             }
            },
            "header": {
             "fill": {
              "color": "#C8D4E3"
             },
             "line": {
              "color": "white"
             }
            },
            "type": "table"
           }
          ]
         },
         "layout": {
          "annotationdefaults": {
           "arrowcolor": "#2a3f5f",
           "arrowhead": 0,
           "arrowwidth": 1
          },
          "autotypenumbers": "strict",
          "coloraxis": {
           "colorbar": {
            "outlinewidth": 0,
            "ticks": ""
           }
          },
          "colorscale": {
           "diverging": [
            [
             0,
             "#8e0152"
            ],
            [
             0.1,
             "#c51b7d"
            ],
            [
             0.2,
             "#de77ae"
            ],
            [
             0.3,
             "#f1b6da"
            ],
            [
             0.4,
             "#fde0ef"
            ],
            [
             0.5,
             "#f7f7f7"
            ],
            [
             0.6,
             "#e6f5d0"
            ],
            [
             0.7,
             "#b8e186"
            ],
            [
             0.8,
             "#7fbc41"
            ],
            [
             0.9,
             "#4d9221"
            ],
            [
             1,
             "#276419"
            ]
           ],
           "sequential": [
            [
             0,
             "#0d0887"
            ],
            [
             0.1111111111111111,
             "#46039f"
            ],
            [
             0.2222222222222222,
             "#7201a8"
            ],
            [
             0.3333333333333333,
             "#9c179e"
            ],
            [
             0.4444444444444444,
             "#bd3786"
            ],
            [
             0.5555555555555556,
             "#d8576b"
            ],
            [
             0.6666666666666666,
             "#ed7953"
            ],
            [
             0.7777777777777778,
             "#fb9f3a"
            ],
            [
             0.8888888888888888,
             "#fdca26"
            ],
            [
             1,
             "#f0f921"
            ]
           ],
           "sequentialminus": [
            [
             0,
             "#0d0887"
            ],
            [
             0.1111111111111111,
             "#46039f"
            ],
            [
             0.2222222222222222,
             "#7201a8"
            ],
            [
             0.3333333333333333,
             "#9c179e"
            ],
            [
             0.4444444444444444,
             "#bd3786"
            ],
            [
             0.5555555555555556,
             "#d8576b"
            ],
            [
             0.6666666666666666,
             "#ed7953"
            ],
            [
             0.7777777777777778,
             "#fb9f3a"
            ],
            [
             0.8888888888888888,
             "#fdca26"
            ],
            [
             1,
             "#f0f921"
            ]
           ]
          },
          "colorway": [
           "#636efa",
           "#EF553B",
           "#00cc96",
           "#ab63fa",
           "#FFA15A",
           "#19d3f3",
           "#FF6692",
           "#B6E880",
           "#FF97FF",
           "#FECB52"
          ],
          "font": {
           "color": "#2a3f5f"
          },
          "geo": {
           "bgcolor": "white",
           "lakecolor": "white",
           "landcolor": "#E5ECF6",
           "showlakes": true,
           "showland": true,
           "subunitcolor": "white"
          },
          "hoverlabel": {
           "align": "left"
          },
          "hovermode": "closest",
          "mapbox": {
           "style": "light"
          },
          "paper_bgcolor": "white",
          "plot_bgcolor": "#E5ECF6",
          "polar": {
           "angularaxis": {
            "gridcolor": "white",
            "linecolor": "white",
            "ticks": ""
           },
           "bgcolor": "#E5ECF6",
           "radialaxis": {
            "gridcolor": "white",
            "linecolor": "white",
            "ticks": ""
           }
          },
          "scene": {
           "xaxis": {
            "backgroundcolor": "#E5ECF6",
            "gridcolor": "white",
            "gridwidth": 2,
            "linecolor": "white",
            "showbackground": true,
            "ticks": "",
            "zerolinecolor": "white"
           },
           "yaxis": {
            "backgroundcolor": "#E5ECF6",
            "gridcolor": "white",
            "gridwidth": 2,
            "linecolor": "white",
            "showbackground": true,
            "ticks": "",
            "zerolinecolor": "white"
           },
           "zaxis": {
            "backgroundcolor": "#E5ECF6",
            "gridcolor": "white",
            "gridwidth": 2,
            "linecolor": "white",
            "showbackground": true,
            "ticks": "",
            "zerolinecolor": "white"
           }
          },
          "shapedefaults": {
           "line": {
            "color": "#2a3f5f"
           }
          },
          "ternary": {
           "aaxis": {
            "gridcolor": "white",
            "linecolor": "white",
            "ticks": ""
           },
           "baxis": {
            "gridcolor": "white",
            "linecolor": "white",
            "ticks": ""
           },
           "bgcolor": "#E5ECF6",
           "caxis": {
            "gridcolor": "white",
            "linecolor": "white",
            "ticks": ""
           }
          },
          "title": {
           "x": 0.05
          },
          "xaxis": {
           "automargin": true,
           "gridcolor": "white",
           "linecolor": "white",
           "ticks": "",
           "title": {
            "standoff": 15
           },
           "zerolinecolor": "white",
           "zerolinewidth": 2
          },
          "yaxis": {
           "automargin": true,
           "gridcolor": "white",
           "linecolor": "white",
           "ticks": "",
           "title": {
            "standoff": 15
           },
           "zerolinecolor": "white",
           "zerolinewidth": 2
          }
         }
        },
        "title": {
         "text": "Bootstrap Distribution of Mean Change in Health Scores"
        },
        "xaxis": {
         "anchor": "y",
         "domain": [
          0,
          1
         ],
         "title": {
          "text": "Bootstrap Mean Change in Health Score"
         }
        },
        "yaxis": {
         "anchor": "x",
         "domain": [
          0,
          1
         ],
         "title": {
          "text": "Frequency"
         }
        }
       }
      },
      "text/html": [
       "<div>                            <div id=\"4f2759b7-3d58-48ea-95de-9a7105906157\" class=\"plotly-graph-div\" style=\"height:525px; width:100%;\"></div>            <script type=\"text/javascript\">                require([\"plotly\"], function(Plotly) {                    window.PLOTLYENV=window.PLOTLYENV || {};                                    if (document.getElementById(\"4f2759b7-3d58-48ea-95de-9a7105906157\")) {                    Plotly.newPlot(                        \"4f2759b7-3d58-48ea-95de-9a7105906157\",                        [{\"alignmentgroup\":\"True\",\"bingroup\":\"x\",\"hovertemplate\":\"variable=0\\u003cbr\\u003eBootstrap Mean Change in Health Score=%{x}\\u003cbr\\u003ecount=%{y}\\u003cextra\\u003e\\u003c\\u002fextra\\u003e\",\"legendgroup\":\"0\",\"marker\":{\"color\":\"lightblue\",\"pattern\":{\"shape\":\"\"}},\"name\":\"0\",\"nbinsx\":30,\"offsetgroup\":\"0\",\"orientation\":\"v\",\"showlegend\":true,\"x\":[2.4,2.4,3.1,4.1,4.4,3.5,4.5,3.2,0.0,2.9,2.1,2.6,3.5,4.5,5.2,1.4,4.0,2.7,3.6,3.6,2.3,3.2,4.4,4.1,0.5,2.6,4.3,1.7,3.3,1.9,2.1,1.9,3.9,3.2,4.3,3.4,3.3,2.8,1.9,3.4,2.6,3.8,4.1,0.9,2.5,1.2,2.2,4.3,2.2,3.6,4.0,2.4,4.2,3.4,4.1,3.4,2.4,3.3,3.4,3.3,2.7,2.3,4.1,2.8,3.9,3.7,2.7,1.4,3.9,3.8,6.1,2.7,2.2,3.4,0.9,4.0,3.8,1.3,2.6,3.3,4.3,2.4,3.7,4.2,2.3,3.9,2.1,2.8,3.0,4.4,1.9,1.8,2.7,2.9,1.5,3.2,4.4,1.9,2.7,2.7,1.2,3.3,4.1,3.4,5.4,2.7,3.8,4.1,0.2,3.8,3.5,2.4,0.2,5.2,3.2,4.2,2.7,3.2,5.1,4.9,4.7,3.0,1.9,3.2,1.8,4.2,2.6,3.0,2.0,3.8,3.9,4.5,1.6,4.3,3.9,3.9,3.2,3.8,3.4,2.4,3.3,1.0,3.4,4.2,2.6,0.1,2.2,3.3,5.1,3.1,4.5,3.5,4.2,4.1,2.0,2.5,2.6,4.2,2.6,5.0,3.0,3.4,5.3,4.3,3.9,3.7,2.9,1.9,2.3,3.0,4.2,0.9,5.3,5.3,2.0,2.1,3.5,4.2,2.1,4.7,5.1,4.2,2.9,2.5,5.6,5.6,3.5,2.4,0.9,5.1,4.8,2.2,5.1,2.6,4.1,1.6,2.6,4.0,3.2,4.2,3.0,3.0,4.0,2.1,4.5,4.6,1.1,3.8,5.4,4.4,4.4,2.2,4.6,4.9,3.3,4.5,4.3,2.7,4.4,4.5,3.9,4.1,3.0,3.7,3.5,2.5,1.7,0.6,1.4,1.3,5.3,4.3,3.7,3.1,3.8,4.9,2.5,2.3,0.9,5.6,4.1,2.3,1.7,5.0,1.4,1.9,4.1,4.8,3.7,0.4,3.4,4.3,3.4,3.6,4.1,3.2,2.7,2.2,4.8,4.4,5.2,1.7,2.8,2.7,1.6,1.9,3.1,3.2,2.8,4.9,4.2,4.4,2.0,3.5,3.5,3.2,2.9,3.6,2.2,2.7,3.2,2.1,3.0,4.2,3.5,2.0,2.4,3.5,5.3,2.3,0.2,3.7,2.2,1.1,3.4,4.9,3.3,3.9,2.9,3.6,4.3,2.4,3.9,1.7,2.8,2.1,2.4,4.2,5.0,1.6,0.7,2.6,3.0,3.7,2.7,2.6,2.7,2.5,2.3,1.0,2.0,4.1,1.8,4.6,3.5,2.8,3.7,4.1,5.4,3.3,4.9,1.4,3.3,3.4,2.0,5.7,5.1,2.3,3.5,3.4,2.5,2.7,5.1,4.9,2.2,2.8,4.3,1.8,4.5,3.6,5.5,3.1,3.1,4.2,3.4,4.1,2.0,3.2,2.2,4.6,3.9,3.8,0.6,3.7,2.6,0.6,3.6,4.4,3.9,3.5,3.7,4.2,4.2,2.8,5.8,2.2,1.8,3.3,0.0,4.2,2.2,2.5,3.6,5.1,2.6,4.0,3.3,4.4,4.2,4.4,1.4,5.1,3.2,4.7,2.2,4.1,3.5,0.6,4.3,3.3,5.9,3.7,3.6,1.9,4.2,3.2,3.3,4.8,4.6,2.0,2.8,1.4,3.2,2.4,2.4,3.3,2.9,4.0,2.1,4.5,2.1,3.0,2.4,2.6,3.3,4.5,2.5,3.6,1.6,1.9,2.7,1.8,3.4,3.3,5.2,4.7,4.7,2.6,3.1,2.3,1.9,4.0,4.9,1.2,0.7,3.5,2.9,3.5,3.9,3.3,4.4,3.1,3.3,1.7,4.9,3.8,1.4,5.8,3.4,4.5,2.1,2.0,3.3,-0.3,3.9,2.8,1.2,2.8,1.8,0.2,3.9,4.7,4.4,3.1,2.9,2.8,3.3,2.7,3.9,3.6,2.1,1.4,4.1,4.4,0.0,3.1,3.3,1.7,5.0,3.6,2.1,2.6,4.4,3.9,4.0,4.2,3.0,4.5,1.4,3.9,3.9,5.3,4.0,6.0,4.4,2.5,3.0,4.0,2.2,3.2,2.5,5.8,4.8,4.1,3.0,3.6,3.6,4.9,1.9,4.3,3.8,1.6,1.7,4.3,0.9,2.6,3.4,2.5,3.0,5.2,4.7,1.2,4.8,5.2,3.9,2.5,4.2,5.2,1.9,4.1,5.1,3.9,4.6,5.1,3.3,0.2,1.6,5.5,1.6,5.2,3.3,3.0,6.6,2.4,3.4,1.3,3.7,4.0,4.3,3.8,2.9,6.3,1.3,3.2,2.9,4.3,4.0,3.3,5.2,1.8,2.8,3.6,5.3,2.7,3.2,2.1,3.1,4.4,1.3,2.2,3.0,4.5,1.5,5.0,4.1,5.4,3.2,4.4,4.0,4.7,5.0,4.3,3.1,3.4,2.8,3.9,1.0,3.3,3.8,2.7,3.6,1.8,5.4,4.3,3.8,4.8,3.2,5.1,4.9,0.9,5.8,2.0,3.5,3.4,3.4,2.8,2.6,1.0,3.3,2.6,4.4,2.3,4.4,3.1,4.1,2.9,3.2,1.9,3.2,3.7,3.5,2.9,4.2,4.5,4.0,0.5,3.2,3.9,4.5,1.9,3.5,2.7,3.7,1.9,3.1,2.9,3.2,2.7,2.9,4.2,2.5,2.9,4.2,5.9,2.1,4.8,2.7,2.8,4.5,4.7,3.9,5.0,1.7,3.0,2.5,3.6,4.8,0.0,5.2,2.6,3.9,4.2,3.7,1.7,1.7,4.6,5.4,3.3,5.0,5.6,4.1,5.1,1.8,2.5,1.3,1.3,3.1,3.4,3.4,1.4,2.4,6.4,5.0,5.0,3.4,5.1,3.4,2.1,3.7,3.6,4.3,3.1,2.0,3.1,2.5,2.8,4.7,3.9,2.1,4.4,4.0,4.7,2.4,0.5,2.3,6.1,3.9,3.5,2.2,5.0,5.8,2.6,2.3,3.2,4.2,5.4,2.8,4.8,3.2,2.7,6.2,3.4,2.2,4.5,4.3,0.4,2.0,2.6,4.1,4.4,2.7,3.9,4.7,3.4,2.9,4.5,2.0,3.0,1.2,5.0,2.6,3.3,3.2,4.4,5.3,1.2,3.9,2.6,5.1,4.1,3.4,3.3,4.3,2.3,2.1,2.8,4.1,4.4,1.4,3.9,2.9,4.2,3.0,3.1,3.3,3.1,2.6,4.8,1.6,3.4,3.4,2.1,4.2,5.8,1.2,4.0,3.4,1.0,5.1,2.5,2.9,4.5,2.4,3.3,1.5,3.2,4.1,1.0,4.3,4.9,3.8,3.6,3.4,3.3,1.3,4.1,4.7,3.7,4.2,3.8,4.3,4.2,3.4,3.4,0.7,4.0,3.9,3.5,3.7,4.7,3.9,4.1,4.0,3.3,4.3,5.4,4.1,0.4,4.4,0.1,4.4,5.3,2.1,3.5,3.6,2.5,6.1,3.8,2.7,3.0,2.3,2.0,1.0,4.3,3.9,3.5,2.4,3.6,3.1,3.5,5.2,4.7,3.1,2.9,4.7,3.8,2.4,4.7,4.2,5.1,2.3,5.3,2.8,2.7,4.8,4.5,2.7,3.9,1.7,1.3,2.1,4.9,1.3,2.3,2.7,4.5,3.0,5.6,5.0,2.5,2.4,4.9,3.6,3.4,4.9,1.7,4.9,2.0,2.6,2.7,4.2,4.1,3.5,3.5,2.9,4.7,3.4,1.9,5.1,2.4,0.3,4.0,3.3,2.4,2.8,3.3,5.5,2.6,4.8,3.3,3.0,4.0,4.2,3.4,2.2,2.2,3.3,4.1,3.2,2.7,5.1,3.4,2.0,3.2,2.9,1.7,5.9,3.8,3.0,3.8,1.9,1.8,0.6,2.9,4.6,2.5,2.8,4.1,2.9,1.6,3.1,4.4,3.0,3.6,1.0,4.2,3.9,3.6,2.8,1.7,4.0,1.6,4.6,4.2,1.3,6.3,3.3,3.1,4.2,5.5,5.0,3.1,4.6,2.0,1.8,1.4,2.0,3.1,4.2,3.0,2.1,2.0,3.0,5.0,5.2,5.3,1.5,3.2,2.5,3.9,2.6,4.4,3.8,4.2,1.8,3.9,3.3,5.4,4.2,1.8,3.9,2.2,2.4,4.1,3.6,2.7,3.7,2.3,3.5,2.6],\"xaxis\":\"x\",\"yaxis\":\"y\",\"type\":\"histogram\"}],                        {\"template\":{\"data\":{\"histogram2dcontour\":[{\"type\":\"histogram2dcontour\",\"colorbar\":{\"outlinewidth\":0,\"ticks\":\"\"},\"colorscale\":[[0.0,\"#0d0887\"],[0.1111111111111111,\"#46039f\"],[0.2222222222222222,\"#7201a8\"],[0.3333333333333333,\"#9c179e\"],[0.4444444444444444,\"#bd3786\"],[0.5555555555555556,\"#d8576b\"],[0.6666666666666666,\"#ed7953\"],[0.7777777777777778,\"#fb9f3a\"],[0.8888888888888888,\"#fdca26\"],[1.0,\"#f0f921\"]]}],\"choropleth\":[{\"type\":\"choropleth\",\"colorbar\":{\"outlinewidth\":0,\"ticks\":\"\"}}],\"histogram2d\":[{\"type\":\"histogram2d\",\"colorbar\":{\"outlinewidth\":0,\"ticks\":\"\"},\"colorscale\":[[0.0,\"#0d0887\"],[0.1111111111111111,\"#46039f\"],[0.2222222222222222,\"#7201a8\"],[0.3333333333333333,\"#9c179e\"],[0.4444444444444444,\"#bd3786\"],[0.5555555555555556,\"#d8576b\"],[0.6666666666666666,\"#ed7953\"],[0.7777777777777778,\"#fb9f3a\"],[0.8888888888888888,\"#fdca26\"],[1.0,\"#f0f921\"]]}],\"heatmap\":[{\"type\":\"heatmap\",\"colorbar\":{\"outlinewidth\":0,\"ticks\":\"\"},\"colorscale\":[[0.0,\"#0d0887\"],[0.1111111111111111,\"#46039f\"],[0.2222222222222222,\"#7201a8\"],[0.3333333333333333,\"#9c179e\"],[0.4444444444444444,\"#bd3786\"],[0.5555555555555556,\"#d8576b\"],[0.6666666666666666,\"#ed7953\"],[0.7777777777777778,\"#fb9f3a\"],[0.8888888888888888,\"#fdca26\"],[1.0,\"#f0f921\"]]}],\"heatmapgl\":[{\"type\":\"heatmapgl\",\"colorbar\":{\"outlinewidth\":0,\"ticks\":\"\"},\"colorscale\":[[0.0,\"#0d0887\"],[0.1111111111111111,\"#46039f\"],[0.2222222222222222,\"#7201a8\"],[0.3333333333333333,\"#9c179e\"],[0.4444444444444444,\"#bd3786\"],[0.5555555555555556,\"#d8576b\"],[0.6666666666666666,\"#ed7953\"],[0.7777777777777778,\"#fb9f3a\"],[0.8888888888888888,\"#fdca26\"],[1.0,\"#f0f921\"]]}],\"contourcarpet\":[{\"type\":\"contourcarpet\",\"colorbar\":{\"outlinewidth\":0,\"ticks\":\"\"}}],\"contour\":[{\"type\":\"contour\",\"colorbar\":{\"outlinewidth\":0,\"ticks\":\"\"},\"colorscale\":[[0.0,\"#0d0887\"],[0.1111111111111111,\"#46039f\"],[0.2222222222222222,\"#7201a8\"],[0.3333333333333333,\"#9c179e\"],[0.4444444444444444,\"#bd3786\"],[0.5555555555555556,\"#d8576b\"],[0.6666666666666666,\"#ed7953\"],[0.7777777777777778,\"#fb9f3a\"],[0.8888888888888888,\"#fdca26\"],[1.0,\"#f0f921\"]]}],\"surface\":[{\"type\":\"surface\",\"colorbar\":{\"outlinewidth\":0,\"ticks\":\"\"},\"colorscale\":[[0.0,\"#0d0887\"],[0.1111111111111111,\"#46039f\"],[0.2222222222222222,\"#7201a8\"],[0.3333333333333333,\"#9c179e\"],[0.4444444444444444,\"#bd3786\"],[0.5555555555555556,\"#d8576b\"],[0.6666666666666666,\"#ed7953\"],[0.7777777777777778,\"#fb9f3a\"],[0.8888888888888888,\"#fdca26\"],[1.0,\"#f0f921\"]]}],\"mesh3d\":[{\"type\":\"mesh3d\",\"colorbar\":{\"outlinewidth\":0,\"ticks\":\"\"}}],\"scatter\":[{\"fillpattern\":{\"fillmode\":\"overlay\",\"size\":10,\"solidity\":0.2},\"type\":\"scatter\"}],\"parcoords\":[{\"type\":\"parcoords\",\"line\":{\"colorbar\":{\"outlinewidth\":0,\"ticks\":\"\"}}}],\"scatterpolargl\":[{\"type\":\"scatterpolargl\",\"marker\":{\"colorbar\":{\"outlinewidth\":0,\"ticks\":\"\"}}}],\"bar\":[{\"error_x\":{\"color\":\"#2a3f5f\"},\"error_y\":{\"color\":\"#2a3f5f\"},\"marker\":{\"line\":{\"color\":\"#E5ECF6\",\"width\":0.5},\"pattern\":{\"fillmode\":\"overlay\",\"size\":10,\"solidity\":0.2}},\"type\":\"bar\"}],\"scattergeo\":[{\"type\":\"scattergeo\",\"marker\":{\"colorbar\":{\"outlinewidth\":0,\"ticks\":\"\"}}}],\"scatterpolar\":[{\"type\":\"scatterpolar\",\"marker\":{\"colorbar\":{\"outlinewidth\":0,\"ticks\":\"\"}}}],\"histogram\":[{\"marker\":{\"pattern\":{\"fillmode\":\"overlay\",\"size\":10,\"solidity\":0.2}},\"type\":\"histogram\"}],\"scattergl\":[{\"type\":\"scattergl\",\"marker\":{\"colorbar\":{\"outlinewidth\":0,\"ticks\":\"\"}}}],\"scatter3d\":[{\"type\":\"scatter3d\",\"line\":{\"colorbar\":{\"outlinewidth\":0,\"ticks\":\"\"}},\"marker\":{\"colorbar\":{\"outlinewidth\":0,\"ticks\":\"\"}}}],\"scattermapbox\":[{\"type\":\"scattermapbox\",\"marker\":{\"colorbar\":{\"outlinewidth\":0,\"ticks\":\"\"}}}],\"scatterternary\":[{\"type\":\"scatterternary\",\"marker\":{\"colorbar\":{\"outlinewidth\":0,\"ticks\":\"\"}}}],\"scattercarpet\":[{\"type\":\"scattercarpet\",\"marker\":{\"colorbar\":{\"outlinewidth\":0,\"ticks\":\"\"}}}],\"carpet\":[{\"aaxis\":{\"endlinecolor\":\"#2a3f5f\",\"gridcolor\":\"white\",\"linecolor\":\"white\",\"minorgridcolor\":\"white\",\"startlinecolor\":\"#2a3f5f\"},\"baxis\":{\"endlinecolor\":\"#2a3f5f\",\"gridcolor\":\"white\",\"linecolor\":\"white\",\"minorgridcolor\":\"white\",\"startlinecolor\":\"#2a3f5f\"},\"type\":\"carpet\"}],\"table\":[{\"cells\":{\"fill\":{\"color\":\"#EBF0F8\"},\"line\":{\"color\":\"white\"}},\"header\":{\"fill\":{\"color\":\"#C8D4E3\"},\"line\":{\"color\":\"white\"}},\"type\":\"table\"}],\"barpolar\":[{\"marker\":{\"line\":{\"color\":\"#E5ECF6\",\"width\":0.5},\"pattern\":{\"fillmode\":\"overlay\",\"size\":10,\"solidity\":0.2}},\"type\":\"barpolar\"}],\"pie\":[{\"automargin\":true,\"type\":\"pie\"}]},\"layout\":{\"autotypenumbers\":\"strict\",\"colorway\":[\"#636efa\",\"#EF553B\",\"#00cc96\",\"#ab63fa\",\"#FFA15A\",\"#19d3f3\",\"#FF6692\",\"#B6E880\",\"#FF97FF\",\"#FECB52\"],\"font\":{\"color\":\"#2a3f5f\"},\"hovermode\":\"closest\",\"hoverlabel\":{\"align\":\"left\"},\"paper_bgcolor\":\"white\",\"plot_bgcolor\":\"#E5ECF6\",\"polar\":{\"bgcolor\":\"#E5ECF6\",\"angularaxis\":{\"gridcolor\":\"white\",\"linecolor\":\"white\",\"ticks\":\"\"},\"radialaxis\":{\"gridcolor\":\"white\",\"linecolor\":\"white\",\"ticks\":\"\"}},\"ternary\":{\"bgcolor\":\"#E5ECF6\",\"aaxis\":{\"gridcolor\":\"white\",\"linecolor\":\"white\",\"ticks\":\"\"},\"baxis\":{\"gridcolor\":\"white\",\"linecolor\":\"white\",\"ticks\":\"\"},\"caxis\":{\"gridcolor\":\"white\",\"linecolor\":\"white\",\"ticks\":\"\"}},\"coloraxis\":{\"colorbar\":{\"outlinewidth\":0,\"ticks\":\"\"}},\"colorscale\":{\"sequential\":[[0.0,\"#0d0887\"],[0.1111111111111111,\"#46039f\"],[0.2222222222222222,\"#7201a8\"],[0.3333333333333333,\"#9c179e\"],[0.4444444444444444,\"#bd3786\"],[0.5555555555555556,\"#d8576b\"],[0.6666666666666666,\"#ed7953\"],[0.7777777777777778,\"#fb9f3a\"],[0.8888888888888888,\"#fdca26\"],[1.0,\"#f0f921\"]],\"sequentialminus\":[[0.0,\"#0d0887\"],[0.1111111111111111,\"#46039f\"],[0.2222222222222222,\"#7201a8\"],[0.3333333333333333,\"#9c179e\"],[0.4444444444444444,\"#bd3786\"],[0.5555555555555556,\"#d8576b\"],[0.6666666666666666,\"#ed7953\"],[0.7777777777777778,\"#fb9f3a\"],[0.8888888888888888,\"#fdca26\"],[1.0,\"#f0f921\"]],\"diverging\":[[0,\"#8e0152\"],[0.1,\"#c51b7d\"],[0.2,\"#de77ae\"],[0.3,\"#f1b6da\"],[0.4,\"#fde0ef\"],[0.5,\"#f7f7f7\"],[0.6,\"#e6f5d0\"],[0.7,\"#b8e186\"],[0.8,\"#7fbc41\"],[0.9,\"#4d9221\"],[1,\"#276419\"]]},\"xaxis\":{\"gridcolor\":\"white\",\"linecolor\":\"white\",\"ticks\":\"\",\"title\":{\"standoff\":15},\"zerolinecolor\":\"white\",\"automargin\":true,\"zerolinewidth\":2},\"yaxis\":{\"gridcolor\":\"white\",\"linecolor\":\"white\",\"ticks\":\"\",\"title\":{\"standoff\":15},\"zerolinecolor\":\"white\",\"automargin\":true,\"zerolinewidth\":2},\"scene\":{\"xaxis\":{\"backgroundcolor\":\"#E5ECF6\",\"gridcolor\":\"white\",\"linecolor\":\"white\",\"showbackground\":true,\"ticks\":\"\",\"zerolinecolor\":\"white\",\"gridwidth\":2},\"yaxis\":{\"backgroundcolor\":\"#E5ECF6\",\"gridcolor\":\"white\",\"linecolor\":\"white\",\"showbackground\":true,\"ticks\":\"\",\"zerolinecolor\":\"white\",\"gridwidth\":2},\"zaxis\":{\"backgroundcolor\":\"#E5ECF6\",\"gridcolor\":\"white\",\"linecolor\":\"white\",\"showbackground\":true,\"ticks\":\"\",\"zerolinecolor\":\"white\",\"gridwidth\":2}},\"shapedefaults\":{\"line\":{\"color\":\"#2a3f5f\"}},\"annotationdefaults\":{\"arrowcolor\":\"#2a3f5f\",\"arrowhead\":0,\"arrowwidth\":1},\"geo\":{\"bgcolor\":\"white\",\"landcolor\":\"#E5ECF6\",\"subunitcolor\":\"white\",\"showland\":true,\"showlakes\":true,\"lakecolor\":\"white\"},\"title\":{\"x\":0.05},\"mapbox\":{\"style\":\"light\"}}},\"xaxis\":{\"anchor\":\"y\",\"domain\":[0.0,1.0],\"title\":{\"text\":\"Bootstrap Mean Change in Health Score\"}},\"yaxis\":{\"anchor\":\"x\",\"domain\":[0.0,1.0],\"title\":{\"text\":\"Frequency\"}},\"legend\":{\"title\":{\"text\":\"variable\"},\"tracegroupgap\":0},\"title\":{\"text\":\"Bootstrap Distribution of Mean Change in Health Scores\"},\"barmode\":\"relative\",\"bargap\":0.2},                        {\"responsive\": true}                    ).then(function(){\n",
       "                            \n",
       "var gd = document.getElementById('4f2759b7-3d58-48ea-95de-9a7105906157');\n",
       "var x = new MutationObserver(function (mutations, observer) {{\n",
       "        var display = window.getComputedStyle(gd).display;\n",
       "        if (!display || display === 'none') {{\n",
       "            console.log([gd, 'removed!']);\n",
       "            Plotly.purge(gd);\n",
       "            observer.disconnect();\n",
       "        }}\n",
       "}});\n",
       "\n",
       "// Listen for the removal of the full notebook cells\n",
       "var notebookContainer = gd.closest('#notebook-container');\n",
       "if (notebookContainer) {{\n",
       "    x.observe(notebookContainer, {childList: true});\n",
       "}}\n",
       "\n",
       "// Listen for the clearing of the current output cell\n",
       "var outputEl = gd.closest('.output');\n",
       "if (outputEl) {{\n",
       "    x.observe(outputEl, {childList: true});\n",
       "}}\n",
       "\n",
       "                        })                };                });            </script>        </div>"
      ]
     },
     "metadata": {},
     "output_type": "display_data"
    }
   ],
   "source": [
    "import pandas as pd\n",
    "import numpy as np\n",
    "import plotly.express as px\n",
    "\n",
    "# Creating the dataset\n",
    "data = {\n",
    "    'PatientID': [1, 2, 3, 4, 5, 6, 7, 8, 9, 10],\n",
    "    'Age': [45, 34, 29, 52, 37, 41, 33, 48, 26, 39],\n",
    "    'Gender': ['M', 'F', 'M', 'F', 'M', 'F', 'M', 'F', 'M', 'F'],\n",
    "    'InitialHealthScore': [84, 78, 83, 81, 81, 80, 79, 85, 76, 83],\n",
    "    'FinalHealthScore': [86, 86, 80, 86, 84, 86, 86, 82, 83, 84]\n",
    "}\n",
    "\n",
    "# Load data into a DataFrame\n",
    "df = pd.DataFrame(data)\n",
    "\n",
    "# Calculate the change in health scores\n",
    "df['ChangeInHealthScore'] = df['FinalHealthScore'] - df['InitialHealthScore']\n",
    "\n",
    "# Set seed for reproducibility\n",
    "np.random.seed(42)\n",
    "\n",
    "# Number of bootstrap samples\n",
    "n_bootstraps = 1000\n",
    "bootstrap_means = []\n",
    "\n",
    "# Perform bootstrapping\n",
    "for _ in range(n_bootstraps):\n",
    "    # Sample with replacement from the change in health scores\n",
    "    sample = np.random.choice(df['ChangeInHealthScore'], size=len(df), replace=True)\n",
    "    # Calculate the mean of the bootstrap sample\n",
    "    bootstrap_means.append(np.mean(sample))\n",
    "\n",
    "# Create a histogram of the bootstrap means\n",
    "fig_bootstrap = px.histogram(bootstrap_means, \n",
    "                              title='Bootstrap Distribution of Mean Change in Health Scores',\n",
    "                              labels={'value': 'Bootstrap Mean Change in Health Score'},\n",
    "                              color_discrete_sequence=['lightblue'],\n",
    "                              nbins=30)\n",
    "\n",
    "# Update layout to enhance readability\n",
    "fig_bootstrap.update_layout(\n",
    "    xaxis_title='Bootstrap Mean Change in Health Score',\n",
    "    yaxis_title='Frequency',\n",
    "    bargap=0.2\n",
    ")\n",
    "\n",
    "# Show the bootstrap histogram\n",
    "fig_bootstrap.show()\n"
   ]
  },
  {
   "cell_type": "markdown",
   "id": "a069e39c",
   "metadata": {},
   "source": [
    "### to understand this graph better, let me put a line in the middle for the mean"
   ]
  },
  {
   "cell_type": "code",
   "execution_count": 12,
   "id": "c1e24daf",
   "metadata": {},
   "outputs": [
    {
     "data": {
      "application/vnd.plotly.v1+json": {
       "config": {
        "plotlyServerURL": "https://plot.ly"
       },
       "data": [
        {
         "alignmentgroup": "True",
         "bingroup": "x",
         "hovertemplate": "variable=0<br>Bootstrap Mean Change in Health Score=%{x}<br>count=%{y}<extra></extra>",
         "legendgroup": "0",
         "marker": {
          "color": "lightblue",
          "pattern": {
           "shape": ""
          }
         },
         "name": "0",
         "nbinsx": 30,
         "offsetgroup": "0",
         "orientation": "v",
         "showlegend": true,
         "type": "histogram",
         "x": [
          2.4,
          2.4,
          3.1,
          4.1,
          4.4,
          3.5,
          4.5,
          3.2,
          0,
          2.9,
          2.1,
          2.6,
          3.5,
          4.5,
          5.2,
          1.4,
          4,
          2.7,
          3.6,
          3.6,
          2.3,
          3.2,
          4.4,
          4.1,
          0.5,
          2.6,
          4.3,
          1.7,
          3.3,
          1.9,
          2.1,
          1.9,
          3.9,
          3.2,
          4.3,
          3.4,
          3.3,
          2.8,
          1.9,
          3.4,
          2.6,
          3.8,
          4.1,
          0.9,
          2.5,
          1.2,
          2.2,
          4.3,
          2.2,
          3.6,
          4,
          2.4,
          4.2,
          3.4,
          4.1,
          3.4,
          2.4,
          3.3,
          3.4,
          3.3,
          2.7,
          2.3,
          4.1,
          2.8,
          3.9,
          3.7,
          2.7,
          1.4,
          3.9,
          3.8,
          6.1,
          2.7,
          2.2,
          3.4,
          0.9,
          4,
          3.8,
          1.3,
          2.6,
          3.3,
          4.3,
          2.4,
          3.7,
          4.2,
          2.3,
          3.9,
          2.1,
          2.8,
          3,
          4.4,
          1.9,
          1.8,
          2.7,
          2.9,
          1.5,
          3.2,
          4.4,
          1.9,
          2.7,
          2.7,
          1.2,
          3.3,
          4.1,
          3.4,
          5.4,
          2.7,
          3.8,
          4.1,
          0.2,
          3.8,
          3.5,
          2.4,
          0.2,
          5.2,
          3.2,
          4.2,
          2.7,
          3.2,
          5.1,
          4.9,
          4.7,
          3,
          1.9,
          3.2,
          1.8,
          4.2,
          2.6,
          3,
          2,
          3.8,
          3.9,
          4.5,
          1.6,
          4.3,
          3.9,
          3.9,
          3.2,
          3.8,
          3.4,
          2.4,
          3.3,
          1,
          3.4,
          4.2,
          2.6,
          0.1,
          2.2,
          3.3,
          5.1,
          3.1,
          4.5,
          3.5,
          4.2,
          4.1,
          2,
          2.5,
          2.6,
          4.2,
          2.6,
          5,
          3,
          3.4,
          5.3,
          4.3,
          3.9,
          3.7,
          2.9,
          1.9,
          2.3,
          3,
          4.2,
          0.9,
          5.3,
          5.3,
          2,
          2.1,
          3.5,
          4.2,
          2.1,
          4.7,
          5.1,
          4.2,
          2.9,
          2.5,
          5.6,
          5.6,
          3.5,
          2.4,
          0.9,
          5.1,
          4.8,
          2.2,
          5.1,
          2.6,
          4.1,
          1.6,
          2.6,
          4,
          3.2,
          4.2,
          3,
          3,
          4,
          2.1,
          4.5,
          4.6,
          1.1,
          3.8,
          5.4,
          4.4,
          4.4,
          2.2,
          4.6,
          4.9,
          3.3,
          4.5,
          4.3,
          2.7,
          4.4,
          4.5,
          3.9,
          4.1,
          3,
          3.7,
          3.5,
          2.5,
          1.7,
          0.6,
          1.4,
          1.3,
          5.3,
          4.3,
          3.7,
          3.1,
          3.8,
          4.9,
          2.5,
          2.3,
          0.9,
          5.6,
          4.1,
          2.3,
          1.7,
          5,
          1.4,
          1.9,
          4.1,
          4.8,
          3.7,
          0.4,
          3.4,
          4.3,
          3.4,
          3.6,
          4.1,
          3.2,
          2.7,
          2.2,
          4.8,
          4.4,
          5.2,
          1.7,
          2.8,
          2.7,
          1.6,
          1.9,
          3.1,
          3.2,
          2.8,
          4.9,
          4.2,
          4.4,
          2,
          3.5,
          3.5,
          3.2,
          2.9,
          3.6,
          2.2,
          2.7,
          3.2,
          2.1,
          3,
          4.2,
          3.5,
          2,
          2.4,
          3.5,
          5.3,
          2.3,
          0.2,
          3.7,
          2.2,
          1.1,
          3.4,
          4.9,
          3.3,
          3.9,
          2.9,
          3.6,
          4.3,
          2.4,
          3.9,
          1.7,
          2.8,
          2.1,
          2.4,
          4.2,
          5,
          1.6,
          0.7,
          2.6,
          3,
          3.7,
          2.7,
          2.6,
          2.7,
          2.5,
          2.3,
          1,
          2,
          4.1,
          1.8,
          4.6,
          3.5,
          2.8,
          3.7,
          4.1,
          5.4,
          3.3,
          4.9,
          1.4,
          3.3,
          3.4,
          2,
          5.7,
          5.1,
          2.3,
          3.5,
          3.4,
          2.5,
          2.7,
          5.1,
          4.9,
          2.2,
          2.8,
          4.3,
          1.8,
          4.5,
          3.6,
          5.5,
          3.1,
          3.1,
          4.2,
          3.4,
          4.1,
          2,
          3.2,
          2.2,
          4.6,
          3.9,
          3.8,
          0.6,
          3.7,
          2.6,
          0.6,
          3.6,
          4.4,
          3.9,
          3.5,
          3.7,
          4.2,
          4.2,
          2.8,
          5.8,
          2.2,
          1.8,
          3.3,
          0,
          4.2,
          2.2,
          2.5,
          3.6,
          5.1,
          2.6,
          4,
          3.3,
          4.4,
          4.2,
          4.4,
          1.4,
          5.1,
          3.2,
          4.7,
          2.2,
          4.1,
          3.5,
          0.6,
          4.3,
          3.3,
          5.9,
          3.7,
          3.6,
          1.9,
          4.2,
          3.2,
          3.3,
          4.8,
          4.6,
          2,
          2.8,
          1.4,
          3.2,
          2.4,
          2.4,
          3.3,
          2.9,
          4,
          2.1,
          4.5,
          2.1,
          3,
          2.4,
          2.6,
          3.3,
          4.5,
          2.5,
          3.6,
          1.6,
          1.9,
          2.7,
          1.8,
          3.4,
          3.3,
          5.2,
          4.7,
          4.7,
          2.6,
          3.1,
          2.3,
          1.9,
          4,
          4.9,
          1.2,
          0.7,
          3.5,
          2.9,
          3.5,
          3.9,
          3.3,
          4.4,
          3.1,
          3.3,
          1.7,
          4.9,
          3.8,
          1.4,
          5.8,
          3.4,
          4.5,
          2.1,
          2,
          3.3,
          -0.3,
          3.9,
          2.8,
          1.2,
          2.8,
          1.8,
          0.2,
          3.9,
          4.7,
          4.4,
          3.1,
          2.9,
          2.8,
          3.3,
          2.7,
          3.9,
          3.6,
          2.1,
          1.4,
          4.1,
          4.4,
          0,
          3.1,
          3.3,
          1.7,
          5,
          3.6,
          2.1,
          2.6,
          4.4,
          3.9,
          4,
          4.2,
          3,
          4.5,
          1.4,
          3.9,
          3.9,
          5.3,
          4,
          6,
          4.4,
          2.5,
          3,
          4,
          2.2,
          3.2,
          2.5,
          5.8,
          4.8,
          4.1,
          3,
          3.6,
          3.6,
          4.9,
          1.9,
          4.3,
          3.8,
          1.6,
          1.7,
          4.3,
          0.9,
          2.6,
          3.4,
          2.5,
          3,
          5.2,
          4.7,
          1.2,
          4.8,
          5.2,
          3.9,
          2.5,
          4.2,
          5.2,
          1.9,
          4.1,
          5.1,
          3.9,
          4.6,
          5.1,
          3.3,
          0.2,
          1.6,
          5.5,
          1.6,
          5.2,
          3.3,
          3,
          6.6,
          2.4,
          3.4,
          1.3,
          3.7,
          4,
          4.3,
          3.8,
          2.9,
          6.3,
          1.3,
          3.2,
          2.9,
          4.3,
          4,
          3.3,
          5.2,
          1.8,
          2.8,
          3.6,
          5.3,
          2.7,
          3.2,
          2.1,
          3.1,
          4.4,
          1.3,
          2.2,
          3,
          4.5,
          1.5,
          5,
          4.1,
          5.4,
          3.2,
          4.4,
          4,
          4.7,
          5,
          4.3,
          3.1,
          3.4,
          2.8,
          3.9,
          1,
          3.3,
          3.8,
          2.7,
          3.6,
          1.8,
          5.4,
          4.3,
          3.8,
          4.8,
          3.2,
          5.1,
          4.9,
          0.9,
          5.8,
          2,
          3.5,
          3.4,
          3.4,
          2.8,
          2.6,
          1,
          3.3,
          2.6,
          4.4,
          2.3,
          4.4,
          3.1,
          4.1,
          2.9,
          3.2,
          1.9,
          3.2,
          3.7,
          3.5,
          2.9,
          4.2,
          4.5,
          4,
          0.5,
          3.2,
          3.9,
          4.5,
          1.9,
          3.5,
          2.7,
          3.7,
          1.9,
          3.1,
          2.9,
          3.2,
          2.7,
          2.9,
          4.2,
          2.5,
          2.9,
          4.2,
          5.9,
          2.1,
          4.8,
          2.7,
          2.8,
          4.5,
          4.7,
          3.9,
          5,
          1.7,
          3,
          2.5,
          3.6,
          4.8,
          0,
          5.2,
          2.6,
          3.9,
          4.2,
          3.7,
          1.7,
          1.7,
          4.6,
          5.4,
          3.3,
          5,
          5.6,
          4.1,
          5.1,
          1.8,
          2.5,
          1.3,
          1.3,
          3.1,
          3.4,
          3.4,
          1.4,
          2.4,
          6.4,
          5,
          5,
          3.4,
          5.1,
          3.4,
          2.1,
          3.7,
          3.6,
          4.3,
          3.1,
          2,
          3.1,
          2.5,
          2.8,
          4.7,
          3.9,
          2.1,
          4.4,
          4,
          4.7,
          2.4,
          0.5,
          2.3,
          6.1,
          3.9,
          3.5,
          2.2,
          5,
          5.8,
          2.6,
          2.3,
          3.2,
          4.2,
          5.4,
          2.8,
          4.8,
          3.2,
          2.7,
          6.2,
          3.4,
          2.2,
          4.5,
          4.3,
          0.4,
          2,
          2.6,
          4.1,
          4.4,
          2.7,
          3.9,
          4.7,
          3.4,
          2.9,
          4.5,
          2,
          3,
          1.2,
          5,
          2.6,
          3.3,
          3.2,
          4.4,
          5.3,
          1.2,
          3.9,
          2.6,
          5.1,
          4.1,
          3.4,
          3.3,
          4.3,
          2.3,
          2.1,
          2.8,
          4.1,
          4.4,
          1.4,
          3.9,
          2.9,
          4.2,
          3,
          3.1,
          3.3,
          3.1,
          2.6,
          4.8,
          1.6,
          3.4,
          3.4,
          2.1,
          4.2,
          5.8,
          1.2,
          4,
          3.4,
          1,
          5.1,
          2.5,
          2.9,
          4.5,
          2.4,
          3.3,
          1.5,
          3.2,
          4.1,
          1,
          4.3,
          4.9,
          3.8,
          3.6,
          3.4,
          3.3,
          1.3,
          4.1,
          4.7,
          3.7,
          4.2,
          3.8,
          4.3,
          4.2,
          3.4,
          3.4,
          0.7,
          4,
          3.9,
          3.5,
          3.7,
          4.7,
          3.9,
          4.1,
          4,
          3.3,
          4.3,
          5.4,
          4.1,
          0.4,
          4.4,
          0.1,
          4.4,
          5.3,
          2.1,
          3.5,
          3.6,
          2.5,
          6.1,
          3.8,
          2.7,
          3,
          2.3,
          2,
          1,
          4.3,
          3.9,
          3.5,
          2.4,
          3.6,
          3.1,
          3.5,
          5.2,
          4.7,
          3.1,
          2.9,
          4.7,
          3.8,
          2.4,
          4.7,
          4.2,
          5.1,
          2.3,
          5.3,
          2.8,
          2.7,
          4.8,
          4.5,
          2.7,
          3.9,
          1.7,
          1.3,
          2.1,
          4.9,
          1.3,
          2.3,
          2.7,
          4.5,
          3,
          5.6,
          5,
          2.5,
          2.4,
          4.9,
          3.6,
          3.4,
          4.9,
          1.7,
          4.9,
          2,
          2.6,
          2.7,
          4.2,
          4.1,
          3.5,
          3.5,
          2.9,
          4.7,
          3.4,
          1.9,
          5.1,
          2.4,
          0.3,
          4,
          3.3,
          2.4,
          2.8,
          3.3,
          5.5,
          2.6,
          4.8,
          3.3,
          3,
          4,
          4.2,
          3.4,
          2.2,
          2.2,
          3.3,
          4.1,
          3.2,
          2.7,
          5.1,
          3.4,
          2,
          3.2,
          2.9,
          1.7,
          5.9,
          3.8,
          3,
          3.8,
          1.9,
          1.8,
          0.6,
          2.9,
          4.6,
          2.5,
          2.8,
          4.1,
          2.9,
          1.6,
          3.1,
          4.4,
          3,
          3.6,
          1,
          4.2,
          3.9,
          3.6,
          2.8,
          1.7,
          4,
          1.6,
          4.6,
          4.2,
          1.3,
          6.3,
          3.3,
          3.1,
          4.2,
          5.5,
          5,
          3.1,
          4.6,
          2,
          1.8,
          1.4,
          2,
          3.1,
          4.2,
          3,
          2.1,
          2,
          3,
          5,
          5.2,
          5.3,
          1.5,
          3.2,
          2.5,
          3.9,
          2.6,
          4.4,
          3.8,
          4.2,
          1.8,
          3.9,
          3.3,
          5.4,
          4.2,
          1.8,
          3.9,
          2.2,
          2.4,
          4.1,
          3.6,
          2.7,
          3.7,
          2.3,
          3.5,
          2.6
         ],
         "xaxis": "x",
         "yaxis": "y"
        }
       ],
       "layout": {
        "annotations": [
         {
          "arrowhead": 2,
          "ax": 0,
          "ay": -40,
          "font": {
           "color": "red"
          },
          "showarrow": true,
          "text": "Mean: 3.31",
          "x": 3.3075,
          "xref": "x",
          "y": 20,
          "yref": "y"
         }
        ],
        "bargap": 0.2,
        "barmode": "relative",
        "legend": {
         "title": {
          "text": "variable"
         },
         "tracegroupgap": 0
        },
        "shapes": [
         {
          "line": {
           "color": "red",
           "dash": "dash",
           "width": 2
          },
          "type": "line",
          "x0": 3.3075,
          "x1": 3.3075,
          "y0": 0,
          "y1": 100
         }
        ],
        "template": {
         "data": {
          "bar": [
           {
            "error_x": {
             "color": "#2a3f5f"
            },
            "error_y": {
             "color": "#2a3f5f"
            },
            "marker": {
             "line": {
              "color": "#E5ECF6",
              "width": 0.5
             },
             "pattern": {
              "fillmode": "overlay",
              "size": 10,
              "solidity": 0.2
             }
            },
            "type": "bar"
           }
          ],
          "barpolar": [
           {
            "marker": {
             "line": {
              "color": "#E5ECF6",
              "width": 0.5
             },
             "pattern": {
              "fillmode": "overlay",
              "size": 10,
              "solidity": 0.2
             }
            },
            "type": "barpolar"
           }
          ],
          "carpet": [
           {
            "aaxis": {
             "endlinecolor": "#2a3f5f",
             "gridcolor": "white",
             "linecolor": "white",
             "minorgridcolor": "white",
             "startlinecolor": "#2a3f5f"
            },
            "baxis": {
             "endlinecolor": "#2a3f5f",
             "gridcolor": "white",
             "linecolor": "white",
             "minorgridcolor": "white",
             "startlinecolor": "#2a3f5f"
            },
            "type": "carpet"
           }
          ],
          "choropleth": [
           {
            "colorbar": {
             "outlinewidth": 0,
             "ticks": ""
            },
            "type": "choropleth"
           }
          ],
          "contour": [
           {
            "colorbar": {
             "outlinewidth": 0,
             "ticks": ""
            },
            "colorscale": [
             [
              0,
              "#0d0887"
             ],
             [
              0.1111111111111111,
              "#46039f"
             ],
             [
              0.2222222222222222,
              "#7201a8"
             ],
             [
              0.3333333333333333,
              "#9c179e"
             ],
             [
              0.4444444444444444,
              "#bd3786"
             ],
             [
              0.5555555555555556,
              "#d8576b"
             ],
             [
              0.6666666666666666,
              "#ed7953"
             ],
             [
              0.7777777777777778,
              "#fb9f3a"
             ],
             [
              0.8888888888888888,
              "#fdca26"
             ],
             [
              1,
              "#f0f921"
             ]
            ],
            "type": "contour"
           }
          ],
          "contourcarpet": [
           {
            "colorbar": {
             "outlinewidth": 0,
             "ticks": ""
            },
            "type": "contourcarpet"
           }
          ],
          "heatmap": [
           {
            "colorbar": {
             "outlinewidth": 0,
             "ticks": ""
            },
            "colorscale": [
             [
              0,
              "#0d0887"
             ],
             [
              0.1111111111111111,
              "#46039f"
             ],
             [
              0.2222222222222222,
              "#7201a8"
             ],
             [
              0.3333333333333333,
              "#9c179e"
             ],
             [
              0.4444444444444444,
              "#bd3786"
             ],
             [
              0.5555555555555556,
              "#d8576b"
             ],
             [
              0.6666666666666666,
              "#ed7953"
             ],
             [
              0.7777777777777778,
              "#fb9f3a"
             ],
             [
              0.8888888888888888,
              "#fdca26"
             ],
             [
              1,
              "#f0f921"
             ]
            ],
            "type": "heatmap"
           }
          ],
          "heatmapgl": [
           {
            "colorbar": {
             "outlinewidth": 0,
             "ticks": ""
            },
            "colorscale": [
             [
              0,
              "#0d0887"
             ],
             [
              0.1111111111111111,
              "#46039f"
             ],
             [
              0.2222222222222222,
              "#7201a8"
             ],
             [
              0.3333333333333333,
              "#9c179e"
             ],
             [
              0.4444444444444444,
              "#bd3786"
             ],
             [
              0.5555555555555556,
              "#d8576b"
             ],
             [
              0.6666666666666666,
              "#ed7953"
             ],
             [
              0.7777777777777778,
              "#fb9f3a"
             ],
             [
              0.8888888888888888,
              "#fdca26"
             ],
             [
              1,
              "#f0f921"
             ]
            ],
            "type": "heatmapgl"
           }
          ],
          "histogram": [
           {
            "marker": {
             "pattern": {
              "fillmode": "overlay",
              "size": 10,
              "solidity": 0.2
             }
            },
            "type": "histogram"
           }
          ],
          "histogram2d": [
           {
            "colorbar": {
             "outlinewidth": 0,
             "ticks": ""
            },
            "colorscale": [
             [
              0,
              "#0d0887"
             ],
             [
              0.1111111111111111,
              "#46039f"
             ],
             [
              0.2222222222222222,
              "#7201a8"
             ],
             [
              0.3333333333333333,
              "#9c179e"
             ],
             [
              0.4444444444444444,
              "#bd3786"
             ],
             [
              0.5555555555555556,
              "#d8576b"
             ],
             [
              0.6666666666666666,
              "#ed7953"
             ],
             [
              0.7777777777777778,
              "#fb9f3a"
             ],
             [
              0.8888888888888888,
              "#fdca26"
             ],
             [
              1,
              "#f0f921"
             ]
            ],
            "type": "histogram2d"
           }
          ],
          "histogram2dcontour": [
           {
            "colorbar": {
             "outlinewidth": 0,
             "ticks": ""
            },
            "colorscale": [
             [
              0,
              "#0d0887"
             ],
             [
              0.1111111111111111,
              "#46039f"
             ],
             [
              0.2222222222222222,
              "#7201a8"
             ],
             [
              0.3333333333333333,
              "#9c179e"
             ],
             [
              0.4444444444444444,
              "#bd3786"
             ],
             [
              0.5555555555555556,
              "#d8576b"
             ],
             [
              0.6666666666666666,
              "#ed7953"
             ],
             [
              0.7777777777777778,
              "#fb9f3a"
             ],
             [
              0.8888888888888888,
              "#fdca26"
             ],
             [
              1,
              "#f0f921"
             ]
            ],
            "type": "histogram2dcontour"
           }
          ],
          "mesh3d": [
           {
            "colorbar": {
             "outlinewidth": 0,
             "ticks": ""
            },
            "type": "mesh3d"
           }
          ],
          "parcoords": [
           {
            "line": {
             "colorbar": {
              "outlinewidth": 0,
              "ticks": ""
             }
            },
            "type": "parcoords"
           }
          ],
          "pie": [
           {
            "automargin": true,
            "type": "pie"
           }
          ],
          "scatter": [
           {
            "fillpattern": {
             "fillmode": "overlay",
             "size": 10,
             "solidity": 0.2
            },
            "type": "scatter"
           }
          ],
          "scatter3d": [
           {
            "line": {
             "colorbar": {
              "outlinewidth": 0,
              "ticks": ""
             }
            },
            "marker": {
             "colorbar": {
              "outlinewidth": 0,
              "ticks": ""
             }
            },
            "type": "scatter3d"
           }
          ],
          "scattercarpet": [
           {
            "marker": {
             "colorbar": {
              "outlinewidth": 0,
              "ticks": ""
             }
            },
            "type": "scattercarpet"
           }
          ],
          "scattergeo": [
           {
            "marker": {
             "colorbar": {
              "outlinewidth": 0,
              "ticks": ""
             }
            },
            "type": "scattergeo"
           }
          ],
          "scattergl": [
           {
            "marker": {
             "colorbar": {
              "outlinewidth": 0,
              "ticks": ""
             }
            },
            "type": "scattergl"
           }
          ],
          "scattermapbox": [
           {
            "marker": {
             "colorbar": {
              "outlinewidth": 0,
              "ticks": ""
             }
            },
            "type": "scattermapbox"
           }
          ],
          "scatterpolar": [
           {
            "marker": {
             "colorbar": {
              "outlinewidth": 0,
              "ticks": ""
             }
            },
            "type": "scatterpolar"
           }
          ],
          "scatterpolargl": [
           {
            "marker": {
             "colorbar": {
              "outlinewidth": 0,
              "ticks": ""
             }
            },
            "type": "scatterpolargl"
           }
          ],
          "scatterternary": [
           {
            "marker": {
             "colorbar": {
              "outlinewidth": 0,
              "ticks": ""
             }
            },
            "type": "scatterternary"
           }
          ],
          "surface": [
           {
            "colorbar": {
             "outlinewidth": 0,
             "ticks": ""
            },
            "colorscale": [
             [
              0,
              "#0d0887"
             ],
             [
              0.1111111111111111,
              "#46039f"
             ],
             [
              0.2222222222222222,
              "#7201a8"
             ],
             [
              0.3333333333333333,
              "#9c179e"
             ],
             [
              0.4444444444444444,
              "#bd3786"
             ],
             [
              0.5555555555555556,
              "#d8576b"
             ],
             [
              0.6666666666666666,
              "#ed7953"
             ],
             [
              0.7777777777777778,
              "#fb9f3a"
             ],
             [
              0.8888888888888888,
              "#fdca26"
             ],
             [
              1,
              "#f0f921"
             ]
            ],
            "type": "surface"
           }
          ],
          "table": [
           {
            "cells": {
             "fill": {
              "color": "#EBF0F8"
             },
             "line": {
              "color": "white"
             }
            },
            "header": {
             "fill": {
              "color": "#C8D4E3"
             },
             "line": {
              "color": "white"
             }
            },
            "type": "table"
           }
          ]
         },
         "layout": {
          "annotationdefaults": {
           "arrowcolor": "#2a3f5f",
           "arrowhead": 0,
           "arrowwidth": 1
          },
          "autotypenumbers": "strict",
          "coloraxis": {
           "colorbar": {
            "outlinewidth": 0,
            "ticks": ""
           }
          },
          "colorscale": {
           "diverging": [
            [
             0,
             "#8e0152"
            ],
            [
             0.1,
             "#c51b7d"
            ],
            [
             0.2,
             "#de77ae"
            ],
            [
             0.3,
             "#f1b6da"
            ],
            [
             0.4,
             "#fde0ef"
            ],
            [
             0.5,
             "#f7f7f7"
            ],
            [
             0.6,
             "#e6f5d0"
            ],
            [
             0.7,
             "#b8e186"
            ],
            [
             0.8,
             "#7fbc41"
            ],
            [
             0.9,
             "#4d9221"
            ],
            [
             1,
             "#276419"
            ]
           ],
           "sequential": [
            [
             0,
             "#0d0887"
            ],
            [
             0.1111111111111111,
             "#46039f"
            ],
            [
             0.2222222222222222,
             "#7201a8"
            ],
            [
             0.3333333333333333,
             "#9c179e"
            ],
            [
             0.4444444444444444,
             "#bd3786"
            ],
            [
             0.5555555555555556,
             "#d8576b"
            ],
            [
             0.6666666666666666,
             "#ed7953"
            ],
            [
             0.7777777777777778,
             "#fb9f3a"
            ],
            [
             0.8888888888888888,
             "#fdca26"
            ],
            [
             1,
             "#f0f921"
            ]
           ],
           "sequentialminus": [
            [
             0,
             "#0d0887"
            ],
            [
             0.1111111111111111,
             "#46039f"
            ],
            [
             0.2222222222222222,
             "#7201a8"
            ],
            [
             0.3333333333333333,
             "#9c179e"
            ],
            [
             0.4444444444444444,
             "#bd3786"
            ],
            [
             0.5555555555555556,
             "#d8576b"
            ],
            [
             0.6666666666666666,
             "#ed7953"
            ],
            [
             0.7777777777777778,
             "#fb9f3a"
            ],
            [
             0.8888888888888888,
             "#fdca26"
            ],
            [
             1,
             "#f0f921"
            ]
           ]
          },
          "colorway": [
           "#636efa",
           "#EF553B",
           "#00cc96",
           "#ab63fa",
           "#FFA15A",
           "#19d3f3",
           "#FF6692",
           "#B6E880",
           "#FF97FF",
           "#FECB52"
          ],
          "font": {
           "color": "#2a3f5f"
          },
          "geo": {
           "bgcolor": "white",
           "lakecolor": "white",
           "landcolor": "#E5ECF6",
           "showlakes": true,
           "showland": true,
           "subunitcolor": "white"
          },
          "hoverlabel": {
           "align": "left"
          },
          "hovermode": "closest",
          "mapbox": {
           "style": "light"
          },
          "paper_bgcolor": "white",
          "plot_bgcolor": "#E5ECF6",
          "polar": {
           "angularaxis": {
            "gridcolor": "white",
            "linecolor": "white",
            "ticks": ""
           },
           "bgcolor": "#E5ECF6",
           "radialaxis": {
            "gridcolor": "white",
            "linecolor": "white",
            "ticks": ""
           }
          },
          "scene": {
           "xaxis": {
            "backgroundcolor": "#E5ECF6",
            "gridcolor": "white",
            "gridwidth": 2,
            "linecolor": "white",
            "showbackground": true,
            "ticks": "",
            "zerolinecolor": "white"
           },
           "yaxis": {
            "backgroundcolor": "#E5ECF6",
            "gridcolor": "white",
            "gridwidth": 2,
            "linecolor": "white",
            "showbackground": true,
            "ticks": "",
            "zerolinecolor": "white"
           },
           "zaxis": {
            "backgroundcolor": "#E5ECF6",
            "gridcolor": "white",
            "gridwidth": 2,
            "linecolor": "white",
            "showbackground": true,
            "ticks": "",
            "zerolinecolor": "white"
           }
          },
          "shapedefaults": {
           "line": {
            "color": "#2a3f5f"
           }
          },
          "ternary": {
           "aaxis": {
            "gridcolor": "white",
            "linecolor": "white",
            "ticks": ""
           },
           "baxis": {
            "gridcolor": "white",
            "linecolor": "white",
            "ticks": ""
           },
           "bgcolor": "#E5ECF6",
           "caxis": {
            "gridcolor": "white",
            "linecolor": "white",
            "ticks": ""
           }
          },
          "title": {
           "x": 0.05
          },
          "xaxis": {
           "automargin": true,
           "gridcolor": "white",
           "linecolor": "white",
           "ticks": "",
           "title": {
            "standoff": 15
           },
           "zerolinecolor": "white",
           "zerolinewidth": 2
          },
          "yaxis": {
           "automargin": true,
           "gridcolor": "white",
           "linecolor": "white",
           "ticks": "",
           "title": {
            "standoff": 15
           },
           "zerolinecolor": "white",
           "zerolinewidth": 2
          }
         }
        },
        "title": {
         "text": "Bootstrap Distribution of Mean Change in Health Scores"
        },
        "xaxis": {
         "anchor": "y",
         "domain": [
          0,
          1
         ],
         "title": {
          "text": "Bootstrap Mean Change in Health Score"
         }
        },
        "yaxis": {
         "anchor": "x",
         "domain": [
          0,
          1
         ],
         "title": {
          "text": "Frequency"
         }
        }
       }
      },
      "text/html": [
       "<div>                            <div id=\"561ef459-80f4-48a5-b13a-f919febc3add\" class=\"plotly-graph-div\" style=\"height:525px; width:100%;\"></div>            <script type=\"text/javascript\">                require([\"plotly\"], function(Plotly) {                    window.PLOTLYENV=window.PLOTLYENV || {};                                    if (document.getElementById(\"561ef459-80f4-48a5-b13a-f919febc3add\")) {                    Plotly.newPlot(                        \"561ef459-80f4-48a5-b13a-f919febc3add\",                        [{\"alignmentgroup\":\"True\",\"bingroup\":\"x\",\"hovertemplate\":\"variable=0\\u003cbr\\u003eBootstrap Mean Change in Health Score=%{x}\\u003cbr\\u003ecount=%{y}\\u003cextra\\u003e\\u003c\\u002fextra\\u003e\",\"legendgroup\":\"0\",\"marker\":{\"color\":\"lightblue\",\"pattern\":{\"shape\":\"\"}},\"name\":\"0\",\"nbinsx\":30,\"offsetgroup\":\"0\",\"orientation\":\"v\",\"showlegend\":true,\"x\":[2.4,2.4,3.1,4.1,4.4,3.5,4.5,3.2,0.0,2.9,2.1,2.6,3.5,4.5,5.2,1.4,4.0,2.7,3.6,3.6,2.3,3.2,4.4,4.1,0.5,2.6,4.3,1.7,3.3,1.9,2.1,1.9,3.9,3.2,4.3,3.4,3.3,2.8,1.9,3.4,2.6,3.8,4.1,0.9,2.5,1.2,2.2,4.3,2.2,3.6,4.0,2.4,4.2,3.4,4.1,3.4,2.4,3.3,3.4,3.3,2.7,2.3,4.1,2.8,3.9,3.7,2.7,1.4,3.9,3.8,6.1,2.7,2.2,3.4,0.9,4.0,3.8,1.3,2.6,3.3,4.3,2.4,3.7,4.2,2.3,3.9,2.1,2.8,3.0,4.4,1.9,1.8,2.7,2.9,1.5,3.2,4.4,1.9,2.7,2.7,1.2,3.3,4.1,3.4,5.4,2.7,3.8,4.1,0.2,3.8,3.5,2.4,0.2,5.2,3.2,4.2,2.7,3.2,5.1,4.9,4.7,3.0,1.9,3.2,1.8,4.2,2.6,3.0,2.0,3.8,3.9,4.5,1.6,4.3,3.9,3.9,3.2,3.8,3.4,2.4,3.3,1.0,3.4,4.2,2.6,0.1,2.2,3.3,5.1,3.1,4.5,3.5,4.2,4.1,2.0,2.5,2.6,4.2,2.6,5.0,3.0,3.4,5.3,4.3,3.9,3.7,2.9,1.9,2.3,3.0,4.2,0.9,5.3,5.3,2.0,2.1,3.5,4.2,2.1,4.7,5.1,4.2,2.9,2.5,5.6,5.6,3.5,2.4,0.9,5.1,4.8,2.2,5.1,2.6,4.1,1.6,2.6,4.0,3.2,4.2,3.0,3.0,4.0,2.1,4.5,4.6,1.1,3.8,5.4,4.4,4.4,2.2,4.6,4.9,3.3,4.5,4.3,2.7,4.4,4.5,3.9,4.1,3.0,3.7,3.5,2.5,1.7,0.6,1.4,1.3,5.3,4.3,3.7,3.1,3.8,4.9,2.5,2.3,0.9,5.6,4.1,2.3,1.7,5.0,1.4,1.9,4.1,4.8,3.7,0.4,3.4,4.3,3.4,3.6,4.1,3.2,2.7,2.2,4.8,4.4,5.2,1.7,2.8,2.7,1.6,1.9,3.1,3.2,2.8,4.9,4.2,4.4,2.0,3.5,3.5,3.2,2.9,3.6,2.2,2.7,3.2,2.1,3.0,4.2,3.5,2.0,2.4,3.5,5.3,2.3,0.2,3.7,2.2,1.1,3.4,4.9,3.3,3.9,2.9,3.6,4.3,2.4,3.9,1.7,2.8,2.1,2.4,4.2,5.0,1.6,0.7,2.6,3.0,3.7,2.7,2.6,2.7,2.5,2.3,1.0,2.0,4.1,1.8,4.6,3.5,2.8,3.7,4.1,5.4,3.3,4.9,1.4,3.3,3.4,2.0,5.7,5.1,2.3,3.5,3.4,2.5,2.7,5.1,4.9,2.2,2.8,4.3,1.8,4.5,3.6,5.5,3.1,3.1,4.2,3.4,4.1,2.0,3.2,2.2,4.6,3.9,3.8,0.6,3.7,2.6,0.6,3.6,4.4,3.9,3.5,3.7,4.2,4.2,2.8,5.8,2.2,1.8,3.3,0.0,4.2,2.2,2.5,3.6,5.1,2.6,4.0,3.3,4.4,4.2,4.4,1.4,5.1,3.2,4.7,2.2,4.1,3.5,0.6,4.3,3.3,5.9,3.7,3.6,1.9,4.2,3.2,3.3,4.8,4.6,2.0,2.8,1.4,3.2,2.4,2.4,3.3,2.9,4.0,2.1,4.5,2.1,3.0,2.4,2.6,3.3,4.5,2.5,3.6,1.6,1.9,2.7,1.8,3.4,3.3,5.2,4.7,4.7,2.6,3.1,2.3,1.9,4.0,4.9,1.2,0.7,3.5,2.9,3.5,3.9,3.3,4.4,3.1,3.3,1.7,4.9,3.8,1.4,5.8,3.4,4.5,2.1,2.0,3.3,-0.3,3.9,2.8,1.2,2.8,1.8,0.2,3.9,4.7,4.4,3.1,2.9,2.8,3.3,2.7,3.9,3.6,2.1,1.4,4.1,4.4,0.0,3.1,3.3,1.7,5.0,3.6,2.1,2.6,4.4,3.9,4.0,4.2,3.0,4.5,1.4,3.9,3.9,5.3,4.0,6.0,4.4,2.5,3.0,4.0,2.2,3.2,2.5,5.8,4.8,4.1,3.0,3.6,3.6,4.9,1.9,4.3,3.8,1.6,1.7,4.3,0.9,2.6,3.4,2.5,3.0,5.2,4.7,1.2,4.8,5.2,3.9,2.5,4.2,5.2,1.9,4.1,5.1,3.9,4.6,5.1,3.3,0.2,1.6,5.5,1.6,5.2,3.3,3.0,6.6,2.4,3.4,1.3,3.7,4.0,4.3,3.8,2.9,6.3,1.3,3.2,2.9,4.3,4.0,3.3,5.2,1.8,2.8,3.6,5.3,2.7,3.2,2.1,3.1,4.4,1.3,2.2,3.0,4.5,1.5,5.0,4.1,5.4,3.2,4.4,4.0,4.7,5.0,4.3,3.1,3.4,2.8,3.9,1.0,3.3,3.8,2.7,3.6,1.8,5.4,4.3,3.8,4.8,3.2,5.1,4.9,0.9,5.8,2.0,3.5,3.4,3.4,2.8,2.6,1.0,3.3,2.6,4.4,2.3,4.4,3.1,4.1,2.9,3.2,1.9,3.2,3.7,3.5,2.9,4.2,4.5,4.0,0.5,3.2,3.9,4.5,1.9,3.5,2.7,3.7,1.9,3.1,2.9,3.2,2.7,2.9,4.2,2.5,2.9,4.2,5.9,2.1,4.8,2.7,2.8,4.5,4.7,3.9,5.0,1.7,3.0,2.5,3.6,4.8,0.0,5.2,2.6,3.9,4.2,3.7,1.7,1.7,4.6,5.4,3.3,5.0,5.6,4.1,5.1,1.8,2.5,1.3,1.3,3.1,3.4,3.4,1.4,2.4,6.4,5.0,5.0,3.4,5.1,3.4,2.1,3.7,3.6,4.3,3.1,2.0,3.1,2.5,2.8,4.7,3.9,2.1,4.4,4.0,4.7,2.4,0.5,2.3,6.1,3.9,3.5,2.2,5.0,5.8,2.6,2.3,3.2,4.2,5.4,2.8,4.8,3.2,2.7,6.2,3.4,2.2,4.5,4.3,0.4,2.0,2.6,4.1,4.4,2.7,3.9,4.7,3.4,2.9,4.5,2.0,3.0,1.2,5.0,2.6,3.3,3.2,4.4,5.3,1.2,3.9,2.6,5.1,4.1,3.4,3.3,4.3,2.3,2.1,2.8,4.1,4.4,1.4,3.9,2.9,4.2,3.0,3.1,3.3,3.1,2.6,4.8,1.6,3.4,3.4,2.1,4.2,5.8,1.2,4.0,3.4,1.0,5.1,2.5,2.9,4.5,2.4,3.3,1.5,3.2,4.1,1.0,4.3,4.9,3.8,3.6,3.4,3.3,1.3,4.1,4.7,3.7,4.2,3.8,4.3,4.2,3.4,3.4,0.7,4.0,3.9,3.5,3.7,4.7,3.9,4.1,4.0,3.3,4.3,5.4,4.1,0.4,4.4,0.1,4.4,5.3,2.1,3.5,3.6,2.5,6.1,3.8,2.7,3.0,2.3,2.0,1.0,4.3,3.9,3.5,2.4,3.6,3.1,3.5,5.2,4.7,3.1,2.9,4.7,3.8,2.4,4.7,4.2,5.1,2.3,5.3,2.8,2.7,4.8,4.5,2.7,3.9,1.7,1.3,2.1,4.9,1.3,2.3,2.7,4.5,3.0,5.6,5.0,2.5,2.4,4.9,3.6,3.4,4.9,1.7,4.9,2.0,2.6,2.7,4.2,4.1,3.5,3.5,2.9,4.7,3.4,1.9,5.1,2.4,0.3,4.0,3.3,2.4,2.8,3.3,5.5,2.6,4.8,3.3,3.0,4.0,4.2,3.4,2.2,2.2,3.3,4.1,3.2,2.7,5.1,3.4,2.0,3.2,2.9,1.7,5.9,3.8,3.0,3.8,1.9,1.8,0.6,2.9,4.6,2.5,2.8,4.1,2.9,1.6,3.1,4.4,3.0,3.6,1.0,4.2,3.9,3.6,2.8,1.7,4.0,1.6,4.6,4.2,1.3,6.3,3.3,3.1,4.2,5.5,5.0,3.1,4.6,2.0,1.8,1.4,2.0,3.1,4.2,3.0,2.1,2.0,3.0,5.0,5.2,5.3,1.5,3.2,2.5,3.9,2.6,4.4,3.8,4.2,1.8,3.9,3.3,5.4,4.2,1.8,3.9,2.2,2.4,4.1,3.6,2.7,3.7,2.3,3.5,2.6],\"xaxis\":\"x\",\"yaxis\":\"y\",\"type\":\"histogram\"}],                        {\"template\":{\"data\":{\"histogram2dcontour\":[{\"type\":\"histogram2dcontour\",\"colorbar\":{\"outlinewidth\":0,\"ticks\":\"\"},\"colorscale\":[[0.0,\"#0d0887\"],[0.1111111111111111,\"#46039f\"],[0.2222222222222222,\"#7201a8\"],[0.3333333333333333,\"#9c179e\"],[0.4444444444444444,\"#bd3786\"],[0.5555555555555556,\"#d8576b\"],[0.6666666666666666,\"#ed7953\"],[0.7777777777777778,\"#fb9f3a\"],[0.8888888888888888,\"#fdca26\"],[1.0,\"#f0f921\"]]}],\"choropleth\":[{\"type\":\"choropleth\",\"colorbar\":{\"outlinewidth\":0,\"ticks\":\"\"}}],\"histogram2d\":[{\"type\":\"histogram2d\",\"colorbar\":{\"outlinewidth\":0,\"ticks\":\"\"},\"colorscale\":[[0.0,\"#0d0887\"],[0.1111111111111111,\"#46039f\"],[0.2222222222222222,\"#7201a8\"],[0.3333333333333333,\"#9c179e\"],[0.4444444444444444,\"#bd3786\"],[0.5555555555555556,\"#d8576b\"],[0.6666666666666666,\"#ed7953\"],[0.7777777777777778,\"#fb9f3a\"],[0.8888888888888888,\"#fdca26\"],[1.0,\"#f0f921\"]]}],\"heatmap\":[{\"type\":\"heatmap\",\"colorbar\":{\"outlinewidth\":0,\"ticks\":\"\"},\"colorscale\":[[0.0,\"#0d0887\"],[0.1111111111111111,\"#46039f\"],[0.2222222222222222,\"#7201a8\"],[0.3333333333333333,\"#9c179e\"],[0.4444444444444444,\"#bd3786\"],[0.5555555555555556,\"#d8576b\"],[0.6666666666666666,\"#ed7953\"],[0.7777777777777778,\"#fb9f3a\"],[0.8888888888888888,\"#fdca26\"],[1.0,\"#f0f921\"]]}],\"heatmapgl\":[{\"type\":\"heatmapgl\",\"colorbar\":{\"outlinewidth\":0,\"ticks\":\"\"},\"colorscale\":[[0.0,\"#0d0887\"],[0.1111111111111111,\"#46039f\"],[0.2222222222222222,\"#7201a8\"],[0.3333333333333333,\"#9c179e\"],[0.4444444444444444,\"#bd3786\"],[0.5555555555555556,\"#d8576b\"],[0.6666666666666666,\"#ed7953\"],[0.7777777777777778,\"#fb9f3a\"],[0.8888888888888888,\"#fdca26\"],[1.0,\"#f0f921\"]]}],\"contourcarpet\":[{\"type\":\"contourcarpet\",\"colorbar\":{\"outlinewidth\":0,\"ticks\":\"\"}}],\"contour\":[{\"type\":\"contour\",\"colorbar\":{\"outlinewidth\":0,\"ticks\":\"\"},\"colorscale\":[[0.0,\"#0d0887\"],[0.1111111111111111,\"#46039f\"],[0.2222222222222222,\"#7201a8\"],[0.3333333333333333,\"#9c179e\"],[0.4444444444444444,\"#bd3786\"],[0.5555555555555556,\"#d8576b\"],[0.6666666666666666,\"#ed7953\"],[0.7777777777777778,\"#fb9f3a\"],[0.8888888888888888,\"#fdca26\"],[1.0,\"#f0f921\"]]}],\"surface\":[{\"type\":\"surface\",\"colorbar\":{\"outlinewidth\":0,\"ticks\":\"\"},\"colorscale\":[[0.0,\"#0d0887\"],[0.1111111111111111,\"#46039f\"],[0.2222222222222222,\"#7201a8\"],[0.3333333333333333,\"#9c179e\"],[0.4444444444444444,\"#bd3786\"],[0.5555555555555556,\"#d8576b\"],[0.6666666666666666,\"#ed7953\"],[0.7777777777777778,\"#fb9f3a\"],[0.8888888888888888,\"#fdca26\"],[1.0,\"#f0f921\"]]}],\"mesh3d\":[{\"type\":\"mesh3d\",\"colorbar\":{\"outlinewidth\":0,\"ticks\":\"\"}}],\"scatter\":[{\"fillpattern\":{\"fillmode\":\"overlay\",\"size\":10,\"solidity\":0.2},\"type\":\"scatter\"}],\"parcoords\":[{\"type\":\"parcoords\",\"line\":{\"colorbar\":{\"outlinewidth\":0,\"ticks\":\"\"}}}],\"scatterpolargl\":[{\"type\":\"scatterpolargl\",\"marker\":{\"colorbar\":{\"outlinewidth\":0,\"ticks\":\"\"}}}],\"bar\":[{\"error_x\":{\"color\":\"#2a3f5f\"},\"error_y\":{\"color\":\"#2a3f5f\"},\"marker\":{\"line\":{\"color\":\"#E5ECF6\",\"width\":0.5},\"pattern\":{\"fillmode\":\"overlay\",\"size\":10,\"solidity\":0.2}},\"type\":\"bar\"}],\"scattergeo\":[{\"type\":\"scattergeo\",\"marker\":{\"colorbar\":{\"outlinewidth\":0,\"ticks\":\"\"}}}],\"scatterpolar\":[{\"type\":\"scatterpolar\",\"marker\":{\"colorbar\":{\"outlinewidth\":0,\"ticks\":\"\"}}}],\"histogram\":[{\"marker\":{\"pattern\":{\"fillmode\":\"overlay\",\"size\":10,\"solidity\":0.2}},\"type\":\"histogram\"}],\"scattergl\":[{\"type\":\"scattergl\",\"marker\":{\"colorbar\":{\"outlinewidth\":0,\"ticks\":\"\"}}}],\"scatter3d\":[{\"type\":\"scatter3d\",\"line\":{\"colorbar\":{\"outlinewidth\":0,\"ticks\":\"\"}},\"marker\":{\"colorbar\":{\"outlinewidth\":0,\"ticks\":\"\"}}}],\"scattermapbox\":[{\"type\":\"scattermapbox\",\"marker\":{\"colorbar\":{\"outlinewidth\":0,\"ticks\":\"\"}}}],\"scatterternary\":[{\"type\":\"scatterternary\",\"marker\":{\"colorbar\":{\"outlinewidth\":0,\"ticks\":\"\"}}}],\"scattercarpet\":[{\"type\":\"scattercarpet\",\"marker\":{\"colorbar\":{\"outlinewidth\":0,\"ticks\":\"\"}}}],\"carpet\":[{\"aaxis\":{\"endlinecolor\":\"#2a3f5f\",\"gridcolor\":\"white\",\"linecolor\":\"white\",\"minorgridcolor\":\"white\",\"startlinecolor\":\"#2a3f5f\"},\"baxis\":{\"endlinecolor\":\"#2a3f5f\",\"gridcolor\":\"white\",\"linecolor\":\"white\",\"minorgridcolor\":\"white\",\"startlinecolor\":\"#2a3f5f\"},\"type\":\"carpet\"}],\"table\":[{\"cells\":{\"fill\":{\"color\":\"#EBF0F8\"},\"line\":{\"color\":\"white\"}},\"header\":{\"fill\":{\"color\":\"#C8D4E3\"},\"line\":{\"color\":\"white\"}},\"type\":\"table\"}],\"barpolar\":[{\"marker\":{\"line\":{\"color\":\"#E5ECF6\",\"width\":0.5},\"pattern\":{\"fillmode\":\"overlay\",\"size\":10,\"solidity\":0.2}},\"type\":\"barpolar\"}],\"pie\":[{\"automargin\":true,\"type\":\"pie\"}]},\"layout\":{\"autotypenumbers\":\"strict\",\"colorway\":[\"#636efa\",\"#EF553B\",\"#00cc96\",\"#ab63fa\",\"#FFA15A\",\"#19d3f3\",\"#FF6692\",\"#B6E880\",\"#FF97FF\",\"#FECB52\"],\"font\":{\"color\":\"#2a3f5f\"},\"hovermode\":\"closest\",\"hoverlabel\":{\"align\":\"left\"},\"paper_bgcolor\":\"white\",\"plot_bgcolor\":\"#E5ECF6\",\"polar\":{\"bgcolor\":\"#E5ECF6\",\"angularaxis\":{\"gridcolor\":\"white\",\"linecolor\":\"white\",\"ticks\":\"\"},\"radialaxis\":{\"gridcolor\":\"white\",\"linecolor\":\"white\",\"ticks\":\"\"}},\"ternary\":{\"bgcolor\":\"#E5ECF6\",\"aaxis\":{\"gridcolor\":\"white\",\"linecolor\":\"white\",\"ticks\":\"\"},\"baxis\":{\"gridcolor\":\"white\",\"linecolor\":\"white\",\"ticks\":\"\"},\"caxis\":{\"gridcolor\":\"white\",\"linecolor\":\"white\",\"ticks\":\"\"}},\"coloraxis\":{\"colorbar\":{\"outlinewidth\":0,\"ticks\":\"\"}},\"colorscale\":{\"sequential\":[[0.0,\"#0d0887\"],[0.1111111111111111,\"#46039f\"],[0.2222222222222222,\"#7201a8\"],[0.3333333333333333,\"#9c179e\"],[0.4444444444444444,\"#bd3786\"],[0.5555555555555556,\"#d8576b\"],[0.6666666666666666,\"#ed7953\"],[0.7777777777777778,\"#fb9f3a\"],[0.8888888888888888,\"#fdca26\"],[1.0,\"#f0f921\"]],\"sequentialminus\":[[0.0,\"#0d0887\"],[0.1111111111111111,\"#46039f\"],[0.2222222222222222,\"#7201a8\"],[0.3333333333333333,\"#9c179e\"],[0.4444444444444444,\"#bd3786\"],[0.5555555555555556,\"#d8576b\"],[0.6666666666666666,\"#ed7953\"],[0.7777777777777778,\"#fb9f3a\"],[0.8888888888888888,\"#fdca26\"],[1.0,\"#f0f921\"]],\"diverging\":[[0,\"#8e0152\"],[0.1,\"#c51b7d\"],[0.2,\"#de77ae\"],[0.3,\"#f1b6da\"],[0.4,\"#fde0ef\"],[0.5,\"#f7f7f7\"],[0.6,\"#e6f5d0\"],[0.7,\"#b8e186\"],[0.8,\"#7fbc41\"],[0.9,\"#4d9221\"],[1,\"#276419\"]]},\"xaxis\":{\"gridcolor\":\"white\",\"linecolor\":\"white\",\"ticks\":\"\",\"title\":{\"standoff\":15},\"zerolinecolor\":\"white\",\"automargin\":true,\"zerolinewidth\":2},\"yaxis\":{\"gridcolor\":\"white\",\"linecolor\":\"white\",\"ticks\":\"\",\"title\":{\"standoff\":15},\"zerolinecolor\":\"white\",\"automargin\":true,\"zerolinewidth\":2},\"scene\":{\"xaxis\":{\"backgroundcolor\":\"#E5ECF6\",\"gridcolor\":\"white\",\"linecolor\":\"white\",\"showbackground\":true,\"ticks\":\"\",\"zerolinecolor\":\"white\",\"gridwidth\":2},\"yaxis\":{\"backgroundcolor\":\"#E5ECF6\",\"gridcolor\":\"white\",\"linecolor\":\"white\",\"showbackground\":true,\"ticks\":\"\",\"zerolinecolor\":\"white\",\"gridwidth\":2},\"zaxis\":{\"backgroundcolor\":\"#E5ECF6\",\"gridcolor\":\"white\",\"linecolor\":\"white\",\"showbackground\":true,\"ticks\":\"\",\"zerolinecolor\":\"white\",\"gridwidth\":2}},\"shapedefaults\":{\"line\":{\"color\":\"#2a3f5f\"}},\"annotationdefaults\":{\"arrowcolor\":\"#2a3f5f\",\"arrowhead\":0,\"arrowwidth\":1},\"geo\":{\"bgcolor\":\"white\",\"landcolor\":\"#E5ECF6\",\"subunitcolor\":\"white\",\"showland\":true,\"showlakes\":true,\"lakecolor\":\"white\"},\"title\":{\"x\":0.05},\"mapbox\":{\"style\":\"light\"}}},\"xaxis\":{\"anchor\":\"y\",\"domain\":[0.0,1.0],\"title\":{\"text\":\"Bootstrap Mean Change in Health Score\"}},\"yaxis\":{\"anchor\":\"x\",\"domain\":[0.0,1.0],\"title\":{\"text\":\"Frequency\"}},\"legend\":{\"title\":{\"text\":\"variable\"},\"tracegroupgap\":0},\"title\":{\"text\":\"Bootstrap Distribution of Mean Change in Health Scores\"},\"barmode\":\"relative\",\"shapes\":[{\"line\":{\"color\":\"red\",\"dash\":\"dash\",\"width\":2},\"type\":\"line\",\"x0\":3.3075,\"x1\":3.3075,\"y0\":0,\"y1\":100}],\"bargap\":0.2,\"annotations\":[{\"arrowhead\":2,\"ax\":0,\"ay\":-40,\"font\":{\"color\":\"red\"},\"showarrow\":true,\"text\":\"Mean: 3.31\",\"x\":3.3075,\"xref\":\"x\",\"y\":20,\"yref\":\"y\"}]},                        {\"responsive\": true}                    ).then(function(){\n",
       "                            \n",
       "var gd = document.getElementById('561ef459-80f4-48a5-b13a-f919febc3add');\n",
       "var x = new MutationObserver(function (mutations, observer) {{\n",
       "        var display = window.getComputedStyle(gd).display;\n",
       "        if (!display || display === 'none') {{\n",
       "            console.log([gd, 'removed!']);\n",
       "            Plotly.purge(gd);\n",
       "            observer.disconnect();\n",
       "        }}\n",
       "}});\n",
       "\n",
       "// Listen for the removal of the full notebook cells\n",
       "var notebookContainer = gd.closest('#notebook-container');\n",
       "if (notebookContainer) {{\n",
       "    x.observe(notebookContainer, {childList: true});\n",
       "}}\n",
       "\n",
       "// Listen for the clearing of the current output cell\n",
       "var outputEl = gd.closest('.output');\n",
       "if (outputEl) {{\n",
       "    x.observe(outputEl, {childList: true});\n",
       "}}\n",
       "\n",
       "                        })                };                });            </script>        </div>"
      ]
     },
     "metadata": {},
     "output_type": "display_data"
    }
   ],
   "source": [
    "import pandas as pd\n",
    "import numpy as np\n",
    "import plotly.express as px\n",
    "\n",
    "# Creating the dataset\n",
    "data = {\n",
    "    'PatientID': [1, 2, 3, 4, 5, 6, 7, 8, 9, 10],\n",
    "    'Age': [45, 34, 29, 52, 37, 41, 33, 48, 26, 39],\n",
    "    'Gender': ['M', 'F', 'M', 'F', 'M', 'F', 'M', 'F', 'M', 'F'],\n",
    "    'InitialHealthScore': [84, 78, 83, 81, 81, 80, 79, 85, 76, 83],\n",
    "    'FinalHealthScore': [86, 86, 80, 86, 84, 86, 86, 82, 83, 84]\n",
    "}\n",
    "\n",
    "# Load data into a DataFrame\n",
    "df = pd.DataFrame(data)\n",
    "\n",
    "# Calculate the change in health scores\n",
    "df['ChangeInHealthScore'] = df['FinalHealthScore'] - df['InitialHealthScore']\n",
    "\n",
    "# Set seed for reproducibility\n",
    "np.random.seed(42)\n",
    "\n",
    "# Number of bootstrap samples\n",
    "n_bootstraps = 1000\n",
    "bootstrap_means = []\n",
    "\n",
    "# Perform bootstrapping\n",
    "for _ in range(n_bootstraps):\n",
    "    # Sample with replacement from the change in health scores\n",
    "    sample = np.random.choice(df['ChangeInHealthScore'], size=len(df), replace=True)\n",
    "    # Calculate the mean of the bootstrap sample\n",
    "    bootstrap_means.append(np.mean(sample))\n",
    "\n",
    "# Calculate the mean of the bootstrap means\n",
    "mean_bootstrap = np.mean(bootstrap_means)\n",
    "\n",
    "# Create a histogram of the bootstrap means with a line at the mean\n",
    "fig_bootstrap_with_line = px.histogram(bootstrap_means, \n",
    "                                        title='Bootstrap Distribution of Mean Change in Health Scores',\n",
    "                                        labels={'value': 'Bootstrap Mean Change in Health Score'},\n",
    "                                        color_discrete_sequence=['lightblue'],\n",
    "                                        nbins=30)\n",
    "\n",
    "# Update layout to add a line for the mean\n",
    "fig_bootstrap_with_line.add_shape(type='line',\n",
    "                                    x0=mean_bootstrap, x1=mean_bootstrap,\n",
    "                                    y0=0, y1=100,  # Assuming a maximum y value for the line height\n",
    "                                    line=dict(color='red', width=2, dash='dash'))\n",
    "\n",
    "# Update layout to enhance readability\n",
    "fig_bootstrap_with_line.update_layout(\n",
    "    xaxis_title='Bootstrap Mean Change in Health Score',\n",
    "    yaxis_title='Frequency',\n",
    "    bargap=0.2,\n",
    "    annotations=[\n",
    "        dict(\n",
    "            x=mean_bootstrap,\n",
    "            y=20,  # Position of the text annotation\n",
    "            xref='x',\n",
    "            yref='y',\n",
    "            text='Mean: {:.2f}'.format(mean_bootstrap),\n",
    "            showarrow=True,\n",
    "            arrowhead=2,\n",
    "            ax=0,\n",
    "            ay=-40,\n",
    "            font=dict(color='red')\n",
    "        )\n",
    "    ]\n",
    ")\n",
    "\n",
    "# Show the bootstrap histogram with mean line\n",
    "fig_bootstrap_with_line.show()\n"
   ]
  },
  {
   "cell_type": "markdown",
   "id": "ff8e6679",
   "metadata": {},
   "source": [
    "### lets now see if our mean falls in the 95% confidence interval"
   ]
  },
  {
   "cell_type": "code",
   "execution_count": 11,
   "id": "8c9cb070",
   "metadata": {},
   "outputs": [
    {
     "name": "stdout",
     "output_type": "stream",
     "text": [
      "95% Confidence Interval: [0.70, 5.50]\n",
      "Mean of Bootstrap Means: 3.31\n",
      "Does the mean fall within the confidence interval? True\n"
     ]
    }
   ],
   "source": [
    "import numpy as np\n",
    "\n",
    "# Assuming 'bootstrap_means' contains your bootstrap samples\n",
    "# Calculate the 95% confidence interval for the bootstrap means\n",
    "ci_lower = np.percentile(bootstrap_means, 2.5)  # 2.5th percentile\n",
    "ci_upper = np.percentile(bootstrap_means, 97.5)  # 97.5th percentile\n",
    "\n",
    "# Check if the mean falls within the confidence interval\n",
    "mean_bootstrap = np.mean(bootstrap_means)  # Recalculate if needed\n",
    "mean_in_ci = ci_lower <= mean_bootstrap <= ci_upper\n",
    "\n",
    "print(\"95% Confidence Interval: [{:.2f}, {:.2f}]\".format(ci_lower, ci_upper))\n",
    "print(\"Mean of Bootstrap Means: {:.2f}\".format(mean_bootstrap))\n",
    "print(\"Does the mean fall within the confidence interval? {}\".format(mean_in_ci))\n"
   ]
  },
  {
   "cell_type": "markdown",
   "id": "d9ca8726",
   "metadata": {},
   "source": [
    "### as you can see the mean that we have got from our bootstrapping is 3.31 and does this fall in the confidence interval, yes it does. what does this mean?"
   ]
  },
  {
   "cell_type": "markdown",
   "id": "f5e95f7c",
   "metadata": {},
   "source": [
    "## Quantitative Analysis\n",
    "\n",
    "### Confidence Interval Interpretation:\n",
    "\n",
    "A 95% confidence interval suggests that if we were to take many samples and construct confidence intervals from each, about 95% of those intervals would contain the true population mean. Therefore, finding the mean of the bootstrap distribution within this interval suggests that our sample provides a plausible estimate of the true mean change in health scores due to the vaccine.\n",
    "\n",
    "### Implication for the Null Hypothesis:\n",
    "\n",
    "If the mean of the bootstrap means falls within the CI, it implies that the observed mean change in health scores is not statistically significant at the 0.05 level. In other words, we cannot conclude that the vaccine has a significant effect on improving health scores based on this sample.\n",
    "\n",
    "### Statistical Significance:\n",
    "\n",
    "If the confidence interval includes zero (or if the null hypothesis assumes no effect), it supports the idea that the vaccine may not have a meaningful impact on health outcomes. This reinforces the idea of \"failing to reject the null hypothesis,\" meaning that while the sample data suggests some improvement, it does not provide strong enough evidence to claim the vaccine is effective.\n"
   ]
  },
  {
   "cell_type": "markdown",
   "id": "7e3b5d80",
   "metadata": {},
   "source": [
    "## Findings and Discussion\n",
    "\n",
    "The analysis of the health scores before and after administering the new vaccine developed by AliTech indicates changes in patient health. The results show an average change in health scores calculated through bootstrapping, accompanied by a 95% confidence interval.\n",
    "\n",
    "Change in Health Scores: The computed mean change in health scores, derived from the bootstrap samples, reflects a range of responses among patients. Notably, the distribution of changes is varied, highlighting individual differences in vaccine efficacy.\n",
    "Confidence Interval: The 95% confidence interval for the bootstrap means was calculated to provide a range within which we can expect the true population mean to fall. The analysis revealed that the mean change in health scores is within this confidence interval, suggesting that the observed changes in health may be consistent with no effect.\n",
    "\n",
    "Implications for the Vaccine's Effectiveness: Since the confidence interval includes the possibility of no effect (or zero change), it implies that there is not enough statistical evidence to conclude that the vaccine significantly improves health outcomes.\n",
    "\n",
    "### Conclusion\n",
    "\n",
    "The null hypothesis in this study posits that the new vaccine has no effect on improving health scores. The results of the analysis provide insufficient evidence to reject this null hypothesis. The mean change in health scores, while positive, falls within the 95% confidence interval, indicating that the observed improvements may be due to random variability rather than a true effect of the vaccine. Thus, we cannot confidently assert that the vaccine is effective based on the current data."
   ]
  },
  {
   "cell_type": "markdown",
   "id": "0979c784",
   "metadata": {},
   "source": [
    "# QUESTION 9"
   ]
  },
  {
   "cell_type": "markdown",
   "id": "e31d8144",
   "metadata": {},
   "source": [
    "Yes"
   ]
  },
  {
   "cell_type": "markdown",
   "id": "83c06554",
   "metadata": {},
   "source": [
    "# Chat Summary for post-lecture "
   ]
  },
  {
   "cell_type": "markdown",
   "id": "aaafcc3b",
   "metadata": {},
   "source": [
    "## link to the chat-gpt session:\n",
    "https://chatgpt.com/share/66ff291c-7af4-8011-b6a8-e963880aeff0\n",
    "\n",
    "## summary from chat-gpt:\n",
    "\n",
    "Here's a summary of our session:\n",
    "\n",
    "1. **Bootstrapping Overview**: We discussed the concept of bootstrapping, its purpose, and how it can be used to assess the plausibility of a hypothesized average for a population based on sample data.\n",
    "\n",
    "2. **Hypothesis Testing**: We explored the relationship between confidence intervals and hypothesis testing, specifically how a confidence interval that includes zero implies a failure to reject the null hypothesis (which posits no effect).\n",
    "\n",
    "3. **Data Analysis**: You provided a dataset from AliTech regarding a new vaccine's effects on health scores. We discussed the meaning of a null hypothesis of \"no effect\" in this context.\n",
    "\n",
    "4. **Visualizations**: I provided Python code to visualize the data through histograms, including the change in health scores and bootstrap distributions. You requested the addition of a line representing the mean in the bootstrap distribution.\n",
    "\n",
    "5. **Confidence Interval Check**: We calculated the 95% confidence interval for the bootstrap means and assessed whether the mean fell within this interval, discussing its implications regarding the null hypothesis.\n",
    "\n",
    "6. **Findings and Conclusion**: I helped you draft sections for your report, including findings and discussion, a conclusion regarding the null hypothesis, and further considerations for future research.\n",
    "\n",
    "If you need more information or further assistance, feel free to ask!\n"
   ]
  },
  {
   "cell_type": "code",
   "execution_count": null,
   "id": "394cf14b",
   "metadata": {},
   "outputs": [],
   "source": []
  }
 ],
 "metadata": {
  "kernelspec": {
   "display_name": "Python 3 (ipykernel)",
   "language": "python",
   "name": "python3"
  },
  "language_info": {
   "codemirror_mode": {
    "name": "ipython",
    "version": 3
   },
   "file_extension": ".py",
   "mimetype": "text/x-python",
   "name": "python",
   "nbconvert_exporter": "python",
   "pygments_lexer": "ipython3",
   "version": "3.11.6"
  }
 },
 "nbformat": 4,
 "nbformat_minor": 5
}
